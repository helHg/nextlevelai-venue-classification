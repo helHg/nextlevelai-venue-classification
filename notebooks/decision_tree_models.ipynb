{
  "cells": [
    {
      "cell_type": "markdown",
      "metadata": {},
      "source": [
        "$$\\Huge\\textbf{Decision Tree Models}$$"
      ]
    },
    {
      "cell_type": "markdown",
      "metadata": {},
      "source": [
        "# Imports"
      ]
    },
    {
      "cell_type": "code",
      "execution_count": null,
      "metadata": {},
      "outputs": [],
      "source": [
        "# Standard library imports\n",
        "import os  # directory and file operations\n",
        "import shutil  # copying files\n",
        "import time  # adding delays\n",
        "\n",
        "# Installed library imports\n",
        "import cv2  #  OpenCV for computer vision tasks\n",
        "import numpy as np  # numerical operations\n",
        "import matplotlib.pyplot as plt  # plotting and visualization\n",
        "import pandas as pd\n",
        "from PIL import Image  # image processing\n",
        "import seaborn as sns  # confusion matrix visualization\n",
        "from skimage import exposure  #  scikit-image for image processing tasks\n",
        "from sklearn.decomposition import PCA\n",
        "from sklearn.metrics import accuracy_score, precision_score, recall_score, f1_score, confusion_matrix, classification_report  # evaluation metrics\n",
        "from sklearn.model_selection import GridSearchCV, StratifiedKFold, train_test_split  # splitting datasets and cross-validation\n",
        "from sklearn.tree import DecisionTreeClassifier  # decision tree classifier\n",
        "import torchvision.transforms as transforms  # data augmentation\n",
        "from sklearn.preprocessing import StandardScaler #\n",
        "from sklearn.pipeline import Pipeline\n",
        "from skimage.io import imread\n",
        "from skimage.transform import resize\n",
        "from tqdm import tqdm"
      ]
    },
    {
      "cell_type": "markdown",
      "metadata": {},
      "source": [
        "# Global Constansts"
      ]
    },
    {
      "cell_type": "code",
      "execution_count": null,
      "metadata": {
        "id": "CelQvPouZ8ot"
      },
      "outputs": [],
      "source": [
        "# constants\n",
        "NUM_IMAGES_PER_CLASS = 1000\n",
        "TEST_SPLIT_PERCENTAGE = 0.15\n",
        "TRAIN_VAL_SPLIT_PERCENTAGE = 1 - TEST_SPLIT_PERCENTAGE  # the rest is for training and validation\n",
        "BATCH_SIZE = 100  # number of images to copy at once\n",
        "RANDOM_SEED = 42  # seed for reproducibility\n",
        "\n",
        "IMAGE_SIZE = (256, 256)\n",
        "VALIDATION_SPLIT = 15 / 85  # train_val is 85% of the total dataset, we want the validation set to be 15% of the total dataset\n",
        "CLASSES = ['airplane_cabin', 'hockey_arena', 'movie_theater', 'staircase', 'supermarket']"
      ]
    },
    {
      "cell_type": "code",
      "execution_count": null,
      "metadata": {
        "id": "92m-8o6laHF1"
      },
      "outputs": [],
      "source": [
        "# data directories\n",
        "PROJECT_DATASET_DIR = '/content/drive/MyDrive/project_dataset'\n",
        "PROJECT_OUTPUT_DIR = '/content/drive/MyDrive/project_output'\n",
        "CLASSES_ORIGINAL = ['airplane_cabin', 'hockey_arena', 'movie_theater', 'staircase', 'supermarket']\n",
        "CLASSES_NEW = ['airplane_cabin', 'hockey_arena', 'movie_theater', 'staircase', 'supermarket']\n",
        "\n",
        "TRAIN_VAL_DIR = os.path.join(PROJECT_DATASET_DIR, 'train_val')\n",
        "TEST_DIR = os.path.join(PROJECT_DATASET_DIR, 'test')\n",
        "\n",
        "TRAIN_DIR = os.path.join(PROJECT_DATASET_DIR, 'train')  # new directory\n",
        "VALIDATION_DIR = os.path.join(PROJECT_DATASET_DIR, 'validation')  # new directory\n",
        "CROSS_VALI_DIR = os.path.join(PROJECT_DATASET_DIR, 'cross_validation') # new directory for cross_validation"
      ]
    },
    {
      "cell_type": "code",
      "execution_count": null,
      "metadata": {},
      "outputs": [],
      "source": [
        "# please do not remove it, it's for test purpose!!\n",
        "\n",
        "# processed data directories: case without cross validation\n",
        "PROCESSED_DATA_DIR = r'C:\\Users\\helen\\Documents\\Concordia University\\summer 2024\\COMP 6721\\project_code\\data\\project_dataset\\processed_data'\n",
        "TEST_DIR = os.path.join(PROCESSED_DATA_DIR, 'without_cross_validation', 'test')\n",
        "TRAIN_DIR = os.path.join(PROCESSED_DATA_DIR, 'without_cross_validation','train') \n",
        "VALIDATION_DIR = os.path.join(PROCESSED_DATA_DIR, 'without_cross_validation', 'validation')  # new directory\n",
        "\n",
        "# project output directory\n",
        "PROJECT_OUTPUT_DIR = r'C:\\Users\\helen\\Documents\\Concordia University\\summer 2024\\COMP 6721\\project_code\\data\\project_output'\n",
        "output_path = r\"C:\\Users\\helen\\Documents\\Concordia University\\summer 2024\\COMP 6721\\project_code\\data\\project_output\\eval_results_grid_search.txt\"\n",
        "output_path_filetest = r\"C:\\Users\\helen\\Documents\\Concordia University\\summer 2024\\COMP 6721\\project_code\\data\\project_output\\eval_results_filetest_pca.txt\"\n",
        "\n"
      ]
    },
    {
      "cell_type": "markdown",
      "metadata": {},
      "source": [
        "# 1. Help Functions"
      ]
    },
    {
      "cell_type": "markdown",
      "metadata": {
        "id": "f7rzEaBL1jdh"
      },
      "source": [
        "## 1.1. Load image data and labels for each dataset.\n",
        "\n",
        "\n",
        "*   Number of training data: 14000\n",
        "*   Number of validation/test data: 750\n",
        "\n",
        "\n",
        "\n"
      ]
    },
    {
      "cell_type": "code",
      "execution_count": null,
      "metadata": {},
      "outputs": [],
      "source": [
        "def load_images_and_labels(base_dir):\n",
        "    \"\"\"\n",
        "    Load image data and labels from a specified directory. This function traverses each class directory, loads each image, and assigns labels based on the directory name.\n",
        "\n",
        "    Inputs:\n",
        "    - base_dir: A string, the path to the directory containing subdirectories for each class.\n",
        "\n",
        "    Outputs:\n",
        "    - A tuple containing two numpy arrays:\n",
        "      1. `data`: an array of flattened image data.\n",
        "      2. `labels`: an array of labels corresponding to the images.\n",
        "\n",
        "    Each class is expected to have its own subdirectory within `base_dir` with the name of the class.\n",
        "    \"\"\"\n",
        "    # Initialize lists to store image data and labels\n",
        "    data = []\n",
        "    labels = []\n",
        "\n",
        "    # Define the classes and create a mapping from class names to a unique integer\n",
        "    classes = ['airplane_cabin', 'hockey_arena', 'movie_theater', 'staircase', 'supermarket']\n",
        "    class_labels = {cls_name: idx for idx, cls_name in enumerate(classes)}\n",
        "\n",
        "    # Iterate over each class directory in the base directory\n",
        "    for cls_name in classes:\n",
        "        class_dir = os.path.join(base_dir, cls_name)\n",
        "        for img_name in os.listdir(class_dir):\n",
        "            img_path = os.path.join(class_dir, img_name)\n",
        "            img = Image.open(img_path)  # Open the image directly\n",
        "            img_data = np.array(img).flatten()  # Flatten the image data into a one-dimensional vector\n",
        "            data.append(img_data)\n",
        "            labels.append(class_labels[cls_name])\n",
        "\n",
        "    # Convert the lists of data and labels to numpy arrays and return\n",
        "    return np.array(data), np.array(labels)"
      ]
    },
    {
      "cell_type": "markdown",
      "metadata": {},
      "source": [
        "## 1.2. Generate CSV file"
      ]
    },
    {
      "cell_type": "code",
      "execution_count": null,
      "metadata": {},
      "outputs": [],
      "source": [
        "def generate_csv_filename(max_depth, min_samples_split, min_samples_leaf, criterion):\n",
        "    \"\"\"\n",
        "    Generate a filename for storing CSV data based on the parameters of a decision tree model.\n",
        "\n",
        "    Parameters:\n",
        "    - max_depth (int or None): The maximum depth of the tree.\n",
        "    - min_samples_split (int): The minimum number of samples required to split an internal node.\n",
        "    - min_samples_leaf (int): The minimum number of samples required to be at a leaf node.\n",
        "    - criterion (str): The function to measure the quality of a split.\n",
        "\n",
        "    Returns:\n",
        "    - str: A string representing the filename.\n",
        "    \"\"\"\n",
        "    # Replace None with 'None' for filename compatibility\n",
        "    max_depth_str = 'None' if max_depth is None else max_depth\n",
        "\n",
        "    # Construct the filename\n",
        "    filename = f\"d{max_depth_str}_s{min_samples_split}_l{min_samples_leaf}_{criterion}.csv\"\n",
        "\n",
        "    return filename"
      ]
    },
    {
      "cell_type": "markdown",
      "metadata": {},
      "source": [
        "# 2. Evaluation Metrics"
      ]
    },
    {
      "cell_type": "code",
      "execution_count": null,
      "metadata": {},
      "outputs": [],
      "source": [
        "def evaluate_model(predictions, true_labels):\n",
        "    \"\"\"\n",
        "    Evaluate the predictions of a model using the true labels.\n",
        "    Calculate the accuracy, precision, recall, and confusion matrix of the predictions.\n",
        "\n",
        "    Inputs:\n",
        "    - predictions (np.ndarray): The predicted labels from the model.\n",
        "    - true_labels (np.ndarray): The true labels for the validation data.\n",
        "\n",
        "    Outputs:\n",
        "    - accuracy (float): The accuracy of the model on the validation data.\n",
        "    - precision (float): The precision of the model on the validation data.\n",
        "    - recall (float): The recall of the model on the validation data.\n",
        "    - f1 (float): The f1-score of the model on the validation data.\n",
        "    - conf_matrix (np.ndarray): The confusion matrix of the model's predictions.\n",
        "    - report (str): The classification report of the model's predictions.\n",
        "    \"\"\"\n",
        "    # Calculate accuracy\n",
        "    accuracy = accuracy_score(true_labels, predictions)\n",
        "    \n",
        "    # Calculate precision (macro-average for multi-class classification)\n",
        "    precision = precision_score(true_labels, predictions, average='macro')\n",
        "    \n",
        "    # Calculate recall (macro-average for multi-class classification)\n",
        "    recall = recall_score(true_labels, predictions, average='macro')\n",
        "    \n",
        "    # Calculate f1-score (macro-average for multi-class classification)\n",
        "    f1 = f1_score(true_labels, predictions, average='macro')\n",
        "\n",
        "    # Generate confusion matrix\n",
        "    conf_matrix = confusion_matrix(true_labels, predictions)\n",
        "\n",
        "    # Generate classification report\n",
        "    report = classification_report(true_labels, predictions)\n",
        "\n",
        "    return accuracy, precision, recall, f1, conf_matrix, report\n"
      ]
    },
    {
      "cell_type": "code",
      "execution_count": null,
      "metadata": {},
      "outputs": [],
      "source": [
        "def print_evaluation_results(results):\n",
        "    \"\"\"\n",
        "    Print and plot the evaluation results.\n",
        "\n",
        "    Inputs:\n",
        "    - results (tuple): A tuple containing the following evaluation results:\n",
        "        - accuracy (float): The accuracy of the model.\n",
        "        - precision (float): The precision of the model.\n",
        "        - recall (float): The recall of the model.\n",
        "        - f1 (float): The f1-score of the model.\n",
        "        - conf_matrix (np.ndarray): The confusion matrix of the model's predictions.\n",
        "        - report (str): The classification report of the model's predictions.\n",
        "\n",
        "    No outputs. The function prints the evaluation metrics and plots the confusion matrix.\n",
        "    \"\"\"\n",
        "    # Unpack the results tuple\n",
        "    accuracy, precision, recall, f1, conf_matrix, report = results\n",
        "\n",
        "    # Print the evaluation metrics\n",
        "    print(f'Accuracy: {accuracy}')\n",
        "    print(f'Precision: {precision}')\n",
        "    print(f'Recall: {recall}')\n",
        "    print(f'F1-score: {f1}')\n",
        "\n",
        "    print(\"Classification Report:\")\n",
        "    print(report)\n",
        "\n",
        "    # Print the confusion matrix\n",
        "    print(\"Confusion Matrix:\")\n",
        "    print(conf_matrix)\n",
        "    \n",
        "    # Plot the confusion matrix (commented out for now)\n",
        "    #plt.figure(figsize=(10, 7))\n",
        "    #sns.heatmap(conf_matrix, annot=True, fmt='d', cmap='Blues', \n",
        "    #            xticklabels=CLASSES, yticklabels=class_labels)\n",
        "    #plt.xlabel('Predicted')\n",
        "    #plt.ylabel('Actual')\n",
        "    #plt.title('Confusion Matrix')\n",
        "    #plt.show()\n"
      ]
    },
    {
      "cell_type": "code",
      "execution_count": null,
      "metadata": {},
      "outputs": [],
      "source": [
        "def save_evaluation_results_to_txt(results, filename, hyperparameters, dataset):\n",
        "    \"\"\"\n",
        "    Save evaluation results to a text file.\n",
        "\n",
        "    Parameters:\n",
        "    - results (tuple): A tuple containing accuracy, precision, recall, f1, confusion matrix, and classification report.\n",
        "    - filename (str): Full path of the text file to save the results.\n",
        "    - hyperparameters (dict): The hyperparameters used for the model.\n",
        "    - dataset (str): The dataset on which the model was evaluated ('Training' or 'Validation').\n",
        "    \"\"\"\n",
        "    accuracy, precision, recall, f1, conf_matrix, report = results\n",
        "\n",
        "    with open(filename, 'a') as file:\n",
        "        file.write(f\"Evaluation Results on {dataset} Data:\\n\")\n",
        "        for key, value in hyperparameters.items():\n",
        "            file.write(f\"{key}: {value}\\n\")\n",
        "        file.write(f\"Accuracy: {accuracy}\\n\")\n",
        "        file.write(f\"Precision: {precision}\\n\")\n",
        "        file.write(f\"Recall: {recall}\\n\")\n",
        "        file.write(f\"F1 Score: {f1}\\n\")\n",
        "        file.write(f\"Confusion Matrix:\\n{conf_matrix}\\n\")\n",
        "        file.write(f\"Classification Report:\\n{report}\\n\")\n",
        "        file.write(\"\\n\")"
      ]
    },
    {
      "cell_type": "markdown",
      "metadata": {},
      "source": [
        "# 3. Additional Data Preprocessing on Training Set"
      ]
    },
    {
      "cell_type": "markdown",
      "metadata": {},
      "source": [
        "## 3.1. Feature Reduction: PCA"
      ]
    },
    {
      "cell_type": "code",
      "execution_count": null,
      "metadata": {},
      "outputs": [],
      "source": [
        "def determine_pca_components(features, variance_threshold=0.95):\n",
        "    \"\"\"\n",
        "    Determine the number of PCA components needed to explain a given amount of variance.\n",
        "\n",
        "    Inputs:\n",
        "    - features (np.ndarray): Concatenated feature vectors.\n",
        "    - variance_threshold (float): The amount of variance to be explained by the selected components.\n",
        "\n",
        "    Outputs:\n",
        "    - n_components (int): The number of components to keep.\n",
        "    \"\"\"\n",
        "    pca = PCA()\n",
        "    pca.fit(features)\n",
        "    cumulative_variance = np.cumsum(pca.explained_variance_ratio_)\n",
        "    n_components = np.searchsorted(cumulative_variance, variance_threshold) + 1\n",
        "    return n_components"
      ]
    },
    {
      "cell_type": "code",
      "execution_count": null,
      "metadata": {},
      "outputs": [],
      "source": [
        "def apply_pca_to_features(features, pca_model):\n",
        "    \"\"\"\n",
        "    Apply PCA to the concatenated feature vectors to reduce dimensionality.\n",
        "\n",
        "    Inputs:\n",
        "    - features (np.ndarray): Concatenated feature vectors.\n",
        "    - pca_model (PCA): Fitted PCA model.\n",
        "\n",
        "    Outputs:\n",
        "    - pca_features (np.ndarray): Feature vectors after PCA transformation.\n",
        "    \"\"\"\n",
        "    pca_features = pca_model.transform(features)\n",
        "    return pca_features\n"
      ]
    },
    {
      "cell_type": "code",
      "execution_count": null,
      "metadata": {},
      "outputs": [],
      "source": [
        "# save pca-transformed data\n",
        "def save_transformed_data(file_path, data):\n",
        "    \"\"\"\n",
        "    Save the transformed data to a file.\n",
        "\n",
        "    Inputs:\n",
        "    - file_path (str): Path to the file where the data will be saved.\n",
        "    - data (np.ndarray): The data to be saved.\n",
        "    \"\"\"\n",
        "    np.save(file_path, data)"
      ]
    },
    {
      "cell_type": "code",
      "execution_count": null,
      "metadata": {},
      "outputs": [],
      "source": [
        "# load pca transformed data\n",
        "def load_transformed_data(file_path):\n",
        "    \"\"\"\n",
        "    Load the transformed data from a file.\n",
        "\n",
        "    Inputs:\n",
        "    - file_path (str): Path to the file from where the data will be loaded.\n",
        "\n",
        "    Outputs:\n",
        "    - data (np.ndarray): The loaded data.\n",
        "    \"\"\"\n",
        "    return np.load(file_path)"
      ]
    },
    {
      "cell_type": "markdown",
      "metadata": {},
      "source": [
        "## 3.2. Transformation Application"
      ]
    },
    {
      "cell_type": "markdown",
      "metadata": {},
      "source": [
        "Edge detection, corner detection, contour detection, histogram equalization"
      ]
    },
    {
      "cell_type": "code",
      "execution_count": null,
      "metadata": {},
      "outputs": [],
      "source": [
        "def apply_transformations(image):\n",
        "    \"\"\"\n",
        "    Apply all transformations (edge detection, corner detection, contour detection, histogram equalization, and PCA) to the image and concatenate the features.\n",
        "\n",
        "    Inputs:\n",
        "    - image (PIL Image object): Input image.\n",
        "\n",
        "    Outputs:\n",
        "    - features (np.ndarray): Concatenated feature vector from all transformations.\n",
        "    \"\"\"\n",
        "    image_np = np.array(image.convert('L'))\n",
        "    \n",
        "    # Edge detection\n",
        "    edges = cv2.Canny(image_np, 100, 200)\n",
        "    edges_flat = edges.flatten()\n",
        "    #print(f'Edge detection adds {len(edges_flat)} features.')\n",
        "    \n",
        "    # Corner detection\n",
        "    dst = cv2.cornerHarris(image_np, 2, 3, 0.04)\n",
        "    dst = cv2.dilate(dst, None)\n",
        "    corners = (dst > 0.01 * dst.max()).astype(np.uint8) * 255\n",
        "    corners_flat = corners.flatten()\n",
        "    #print(f'Corner detection adds {len(corners_flat)} features.')\n",
        "    \n",
        "    # Contour detection\n",
        "    _, threshold = cv2.threshold(image_np, 127, 255, cv2.THRESH_BINARY)\n",
        "    contours, _ = cv2.findContours(threshold, cv2.RETR_TREE, cv2.CHAIN_APPROX_SIMPLE)\n",
        "    contour_image_np = cv2.drawContours(np.zeros_like(image_np), contours, -1, (255), 1)\n",
        "    contours_flat = contour_image_np.flatten()\n",
        "    #print(f'Contour detection adds {len(contours_flat)} features.')\n",
        "    \n",
        "    # Histogram equalization\n",
        "    equalized_image_np = exposure.equalize_hist(image_np)\n",
        "    equalized_flat = equalized_image_np.flatten()\n",
        "    #print(f'Histogram equalization adds {len(equalized_flat)} features.')\n",
        "    \n",
        "    # Flatten all features and concatenate\n",
        "    features = np.hstack([\n",
        "        edges_flat,\n",
        "        corners_flat,\n",
        "        contours_flat,\n",
        "        equalized_flat\n",
        "    ])\n",
        "    \n",
        "    #print(f'Total features: {len(features)}')\n",
        "    return features\n"
      ]
    },
    {
      "cell_type": "code",
      "execution_count": null,
      "metadata": {},
      "outputs": [],
      "source": [
        "#img_path = r'C:\\Users\\helen\\Documents\\Concordia University\\summer 2024\\COMP 6721\\project_code\\data\\project_dataset\\processed_data\\without_cross_validation\\train\\airplane_cabin\\00000004.jpg'\n",
        "#img = Image.open(img_path)\n",
        "#apply_transformations(img)"
      ]
    },
    {
      "cell_type": "markdown",
      "metadata": {},
      "source": [
        "## 3.3. Data Loading and Transformed Feature Vector Creation"
      ]
    },
    {
      "cell_type": "code",
      "execution_count": null,
      "metadata": {},
      "outputs": [],
      "source": [
        "def load_and_process_images(base_dir):\n",
        "    \"\"\"\n",
        "    Load image data, apply transformations, and concatenate features.\n",
        "\n",
        "    Inputs:\n",
        "    - base_dir: A string, the path to the directory containing subdirectories for each class.\n",
        "\n",
        "    Outputs:\n",
        "    - data: An array of concatenated features.\n",
        "    - labels: An array of labels corresponding to the images.\n",
        "    \"\"\"\n",
        "    data = []\n",
        "    labels = []\n",
        "\n",
        "    class_labels = {cls_name: idx for idx, cls_name in enumerate(CLASSES)}\n",
        "\n",
        "    for cls_name in CLASSES:\n",
        "        class_dir = os.path.join(base_dir, cls_name)\n",
        "        for img_name in tqdm(os.listdir(class_dir), desc=f'Processing {cls_name}'):\n",
        "            img_path = os.path.join(class_dir, img_name)\n",
        "            img = Image.open(img_path)\n",
        "            features = apply_transformations(img)\n",
        "            data.append(features)\n",
        "            labels.append(class_labels[cls_name])\n",
        "\n",
        "    data = np.array(data)\n",
        "    labels = np.array(labels)\n",
        "\n",
        "    return data, labels\n"
      ]
    },
    {
      "cell_type": "markdown",
      "metadata": {},
      "source": [
        "# 4. Decision Tree Models"
      ]
    },
    {
      "cell_type": "code",
      "execution_count": null,
      "metadata": {},
      "outputs": [],
      "source": [
        "# Load training, validation, and test data\n",
        "train_data, train_labels = load_images_and_labels(TRAIN_DIR)\n",
        "validation_data, validation_labels = load_images_and_labels(VALIDATION_DIR)\n",
        "test_data, test_labels = load_images_and_labels(TEST_DIR)"
      ]
    },
    {
      "cell_type": "markdown",
      "metadata": {},
      "source": [
        "## 4.1. Supervised Decision Tree"
      ]
    },
    {
      "cell_type": "code",
      "execution_count": null,
      "metadata": {},
      "outputs": [],
      "source": [
        "# Create a decision tree model\n",
        "model_dt = DecisionTreeClassifier(max_depth=10, \n",
        "                                  min_samples_split=20, \n",
        "                                  min_samples_leaf=5, \n",
        "                                  criterion='entropy', \n",
        "                                  random_state=RANDOM_SEED)\n",
        "\n",
        "model_dt.fit(train_data, train_labels)"
      ]
    },
    {
      "cell_type": "markdown",
      "metadata": {},
      "source": [
        "### Test Zone Lu"
      ]
    },
    {
      "cell_type": "code",
      "execution_count": null,
      "metadata": {},
      "outputs": [],
      "source": [
        "# Evaluate the model using training data\n",
        "train_predictions_dt = model_dt.predict(train_data)\n",
        "train_accuracy_dt = accuracy_score(train_labels, train_predictions_dt)\n",
        "print(f'Training Accuracy for model_dt2: {train_accuracy_dt}')\n",
        "\n",
        "# Evaluate the model using validation data\n",
        "validation_predictions_dt = model_dt.predict(validation_data)\n",
        "vali_accuracy_dt = accuracy_score(validation_labels, validation_predictions_dt)\n",
        "print(f'Validation Accuracy for model_dt2: {vali_accuracy_dt}')"
      ]
    },
    {
      "cell_type": "markdown",
      "metadata": {},
      "source": [
        "### Test zone Hélène"
      ]
    },
    {
      "cell_type": "code",
      "execution_count": null,
      "metadata": {},
      "outputs": [],
      "source": [
        "## load and process training data\n",
        "train_data, train_labels = load_and_process_images(TRAIN_DIR)"
      ]
    },
    {
      "cell_type": "code",
      "execution_count": null,
      "metadata": {},
      "outputs": [],
      "source": [
        "## feature reduction with PCA on the training data\n",
        "\n",
        "# determine the optimal number of PCA components for the training data\n",
        "#optimal_components = determine_pca_components(train_data)\n",
        "#print(f'Optimal number of PCA components: {optimal_components}')\n"
      ]
    },
    {
      "cell_type": "code",
      "execution_count": null,
      "metadata": {},
      "outputs": [],
      "source": [
        "TRAIN_DATA_PCA = r'C:\\Users\\helen\\Documents\\Concordia University\\summer 2024\\COMP 6721\\project_code\\saved_models\\train_data_pca.npy'\n",
        "VAL_DATA_PCA = r'C:\\Users\\helen\\Documents\\Concordia University\\summer 2024\\COMP 6721\\project_code\\saved_models\\validation_data_pca.npy'\n",
        "TEST_DATA_PCA = r'C:\\Users\\helen\\Documents\\Concordia University\\summer 2024\\COMP 6721\\project_code\\saved_models\\test_data_pca.npy'"
      ]
    },
    {
      "cell_type": "code",
      "execution_count": null,
      "metadata": {},
      "outputs": [],
      "source": [
        "# apply PCA to the training data\n",
        "#pca = PCA(n_components=optimal_components)\n",
        "#train_data_pca = pca.fit_transform(train_data)\n",
        "#save_transformed_data(TRAIN_DATA_PCA, train_data_pca)"
      ]
    },
    {
      "cell_type": "code",
      "execution_count": null,
      "metadata": {},
      "outputs": [],
      "source": [
        "# apply the same PCA model to validation data\n",
        "validation_data, validation_labels = load_and_process_images(VALIDATION_DIR)\n",
        "#validation_data_pca = apply_pca_to_features(validation_data, pca)\n",
        "#save_transformed_data(VAL_DATA_PCA, validation_data_pca)"
      ]
    },
    {
      "cell_type": "code",
      "execution_count": null,
      "metadata": {},
      "outputs": [],
      "source": [
        "# apply the same PCA model to test data\n",
        "test_data, test_labels = load_and_process_images(TEST_DIR)\n",
        "#test_data_pca = apply_pca_to_features(test_data, pca)\n",
        "#save_transformed_data(TEST_DATA_PCA, test_data_pca)"
      ]
    },
    {
      "cell_type": "markdown",
      "metadata": {},
      "source": [
        "#### i. Basic DT"
      ]
    },
    {
      "cell_type": "code",
      "execution_count": null,
      "metadata": {},
      "outputs": [],
      "source": [
        "########## test purpose, please do not delete!\n",
        "\n",
        "\n",
        "##### basic DT using one set of hyperparameters\n",
        "# create a decision tree model\n",
        "model_dt = DecisionTreeClassifier(max_depth=8, \n",
        "                                  min_samples_split=30, \n",
        "                                  min_samples_leaf=10, \n",
        "                                  criterion='entropy', \n",
        "                                  random_state=RANDOM_SEED)\n",
        "\n",
        "# train model\n",
        "model_dt.fit(train_data, train_labels)\n",
        "\n",
        "# evaluate the model on the validation set\n",
        "val_predictions = model_dt.predict(validation_data)\n",
        "val_results = evaluate_model(val_predictions, validation_labels)\n",
        "\n",
        "# evaluate the model on the training set\n",
        "train_predictions = model_dt.predict(train_data)\n",
        "train_results = evaluate_model(train_predictions, train_labels)\n",
        "\n",
        "# print and plot the evaluation results\n",
        "print_evaluation_results(train_results)\n",
        "print_evaluation_results(val_results)\n",
        "\n",
        "hyperparameters = {\n",
        "                    'max_depth': 10,\n",
        "                    'min_samples_split': 20,\n",
        "                    'min_samples_leaf': 2\n",
        "                }\n",
        "\n",
        "# save results in .txt file\n",
        "save_evaluation_results_to_txt(train_results, output_path_filetest, hyperparameters, 'Training')\n",
        "save_evaluation_results_to_txt(val_results, output_path_filetest, hyperparameters, 'Validation')\n"
      ]
    },
    {
      "cell_type": "markdown",
      "metadata": {},
      "source": [
        "#### ii. Grid Search to Find the Set of the Best Hyperparamers"
      ]
    },
    {
      "cell_type": "code",
      "execution_count": null,
      "metadata": {},
      "outputs": [],
      "source": [
        "# define the parameter grid\n",
        "param_grid = {\n",
        "    'max_depth': [8, 10],\n",
        "    'min_samples_split': [20, 30],\n",
        "    'min_samples_leaf': [5, 10, 15]\n",
        "}"
      ]
    },
    {
      "cell_type": "markdown",
      "metadata": {},
      "source": [
        "##### Method 1: GridSearchCV (too slow)"
      ]
    },
    {
      "cell_type": "code",
      "execution_count": null,
      "metadata": {},
      "outputs": [],
      "source": [
        "## method 1: using GridSearchCV from scikitlearn\n",
        "\n",
        "# create a general DT classifier\n",
        "gridcv_model_dt = DecisionTreeClassifier(criterion='entropy', random_state=RANDOM_SEED)\n",
        "\n",
        "# perform grid search with cross-validation\n",
        "gridcv_search = GridSearchCV(estimator=gridcv_model_dt, param_grid=param_grid, cv=5, scoring='accuracy')\n",
        "gridcv_search.fit(train_data, train_labels)\n",
        "\n",
        "# get the best parameters\n",
        "best_params = gridcv_search.best_params_\n",
        "\n",
        "print(\"Best hyperparameters:\", best_params)\n",
        "\n",
        "# train the model with the best parameters\n",
        "model_dt = DecisionTreeClassifier(**best_params, criterion='entropy', random_state=RANDOM_SEED)\n",
        "model_dt.fit(train_data, train_labels)\n",
        "\n",
        "# use the trained model to predict \n",
        "train_predictions_dt = model_dt.predict(train_data)\n",
        "validation_predictions_dt = model_dt.predict(validation_data)\n",
        "\n",
        "# evaluate the model using the evaluate_model(predictions, true_labels) function\n",
        "train_acc_dt, train_prec_dt, train_rec_dt, train_f1_dt, train_conf_matrix_dt, train_report_dt = evaluate_model(train_predictions_dt, train_labels)\n",
        "\n",
        "val_acc_dt, val_prec_dt, val_rec_dt, val_f1_dt, val_conf_matrix_dt, val_report_dt = evaluate_model(validation_predictions_dt, validation_labels)\n",
        "\n",
        "# print and plot the evaluation results\n",
        "print_evaluation_results(train_acc_dt, \n",
        "                         train_prec_dt, \n",
        "                         train_rec_dt, \n",
        "                         train_f1_dt,\n",
        "                         train_conf_matrix_dt,\n",
        "                         train_report_dt)\n",
        "\n",
        "print_evaluation_results(val_acc_dt, \n",
        "                         val_prec_dt, \n",
        "                         val_rec_dt, \n",
        "                         val_f1_dt,\n",
        "                         val_conf_matrix_dt,\n",
        "                         val_report_dt)\n"
      ]
    },
    {
      "cell_type": "markdown",
      "metadata": {},
      "source": [
        "##### Method 2: Grid Search Without Cross Validation"
      ]
    },
    {
      "cell_type": "code",
      "execution_count": null,
      "metadata": {},
      "outputs": [],
      "source": [
        "def perform_grid_search_without_cv(train_data, train_labels, val_data, val_labels, param_grid, output_path, random_state=RANDOM_SEED):\n",
        "    \"\"\"\n",
        "    Perform grid search without cross-validation to find the best hyperparameters for a Decision Tree classifier.\n",
        "\n",
        "    Parameters:\n",
        "    - train_data (array-like): Training data.\n",
        "    - train_labels (array-like): Labels corresponding to the training data.\n",
        "    - val_data (array-like): Validation data.\n",
        "    - val_labels (array-like): Labels corresponding to the validation data.\n",
        "    - param_grid (dict): Dictionary with parameters names (str) as keys and lists of parameter settings to try as values.\n",
        "    - output_path (str): Path to save the evaluation results.\n",
        "    - random_state (int): Random seed for reproducibility.\n",
        "\n",
        "    Outputs:\n",
        "    - dict: Best hyperparameters found.\n",
        "    - float: Best accuracy score achieved.\n",
        "    \"\"\"\n",
        "\n",
        "    best_params = None\n",
        "    best_score = 0\n",
        "\n",
        "    # Perform grid search without cross-validation\n",
        "    for max_depth in param_grid['max_depth']:\n",
        "        for min_samples_split in param_grid['min_samples_split']:\n",
        "            for min_samples_leaf in param_grid['min_samples_leaf']:\n",
        "                # Create a Decision Tree classifier with the current combination of hyperparameters\n",
        "                model_dt = DecisionTreeClassifier(\n",
        "                    max_depth=max_depth,\n",
        "                    min_samples_split=min_samples_split,\n",
        "                    min_samples_leaf=min_samples_leaf,\n",
        "                    criterion='entropy',\n",
        "                    random_state=random_state\n",
        "                )\n",
        "                \n",
        "                # Train the model\n",
        "                model_dt.fit(train_data, train_labels)\n",
        "                \n",
        "                # Evaluate the model on the validation set\n",
        "                val_predictions = model_dt.predict(val_data)\n",
        "                val_results = evaluate_model(val_predictions, val_labels)\n",
        "                \n",
        "                # Evaluate the model on the training set\n",
        "                train_predictions = model_dt.predict(train_data)\n",
        "                train_results = evaluate_model(train_predictions, train_labels)\n",
        "\n",
        "                # Save results to text file\n",
        "                hyperparameters = {\n",
        "                    'max_depth': max_depth,\n",
        "                    'min_samples_split': min_samples_split,\n",
        "                    'min_samples_leaf': min_samples_leaf\n",
        "                }\n",
        "\n",
        "                save_evaluation_results_to_txt(train_results, output_path, hyperparameters, 'Training')\n",
        "                save_evaluation_results_to_txt(val_results, output_path, hyperparameters, 'Validation')\n",
        "                \n",
        "                # Update best parameters if the current score is better\n",
        "                if val_results[0] > best_score:  # val_results[0] is accuracy\n",
        "                    best_score = val_results[0]\n",
        "                    best_params = hyperparameters\n",
        "\n",
        "    return best_params, best_score\n",
        "\n"
      ]
    },
    {
      "cell_type": "code",
      "execution_count": null,
      "metadata": {},
      "outputs": [],
      "source": [
        "# perform grid search without cross-validation\n",
        "best_params, best_score = perform_grid_search_without_cv(train_data, \n",
        "                                                         train_labels, \n",
        "                                                         validation_data, \n",
        "                                                         validation_labels, \n",
        "                                                         param_grid, \n",
        "                                                         output_path)\n",
        "\n",
        "print(\"Best hyperparameters without cross-validation:\", best_params)\n",
        "print(\"Best accuracy score without cross-validation:\", best_score)"
      ]
    },
    {
      "cell_type": "markdown",
      "metadata": {},
      "source": [
        "### Save Predictions in a CSV"
      ]
    },
    {
      "cell_type": "code",
      "execution_count": null,
      "metadata": {},
      "outputs": [],
      "source": [
        "# Save the labels and predictions to a CSV file\n",
        "results_df = pd.DataFrame({\n",
        "    'Actual Labels': validation_labels,\n",
        "    'Predicted Labels': validation_predictions_dt\n",
        "})\n",
        "\n",
        "# File path for the CSV file\n",
        "filename = generate_csv_filename(10, 20, 2, 'entropy')\n",
        "csv_file_path = os.path.join(PROJECT_OUTPUT_DIR, 'csvs/'+filename)\n",
        "\n",
        "# Check if the file exists, if not create one, if yes append without writing headers\n",
        "if not os.path.isfile(csv_file_path):\n",
        "    results_df.to_csv(csv_file_path, index=False)\n",
        "else:\n",
        "    results_df.to_csv(csv_file_path, mode='a', header=False, index=False)"
      ]
    },
    {
      "cell_type": "markdown",
      "metadata": {},
      "source": [
        "## 4.2. Supervised Decision Tree with 5-fold validation\n",
        "\n",
        "There is a directory for cross validation."
      ]
    },
    {
      "cell_type": "code",
      "execution_count": null,
      "metadata": {},
      "outputs": [],
      "source": [
        "def prepare_cross_validation_dirs(base_dir, output_dir, n_splits=5):\n",
        "    \"\"\"\n",
        "    Prepares cross-validation directories for image data.\n",
        "    \n",
        "    Parameters:\n",
        "    - base_dir: Path to the directory containing the original unnormalized, unaugmented data.\n",
        "    - output_dir: Path to the directory where the cross-validation splits will be stored.\n",
        "    - n_splits: Number of cross-validation splits.\n",
        "    \"\"\"\n",
        "    # Create the cross_validation directory if it does not exist\n",
        "    if not os.path.exists(output_dir):\n",
        "        os.makedirs(output_dir)\n",
        "    \n",
        "    # Read all images and their labels\n",
        "    images, labels = [], []\n",
        "    class_folders = [f for f in os.listdir(base_dir) if os.path.isdir(os.path.join(base_dir, f))]\n",
        "    for folder in class_folders:\n",
        "        folder_path = os.path.join(base_dir, folder)\n",
        "        for img in os.listdir(folder_path):\n",
        "            if img.lower().endswith(('.png', '.jpg', '.jpeg')):\n",
        "                images.append(os.path.join(folder, img))\n",
        "                labels.append(folder)\n",
        "\n",
        "    # Prepare stratified splits\n",
        "    skf = StratifiedKFold(n_splits=n_splits, shuffle=True, random_state=RANDOM_SEED)\n",
        "    images = np.array(images)\n",
        "    labels = np.array(labels)\n",
        "\n",
        "    # Generate splits and directories\n",
        "    for fold, (train_idx, val_idx) in enumerate(skf.split(images, labels), 1):\n",
        "        fold_dir = os.path.join(output_dir, f'fold_{fold}')\n",
        "        os.makedirs(fold_dir, exist_ok=True)\n",
        "\n",
        "        # Directories for training and validation inside each fold\n",
        "        train_dir = os.path.join(fold_dir, 'train')\n",
        "        val_dir = os.path.join(fold_dir, 'val')\n",
        "        os.makedirs(train_dir, exist_ok=True)\n",
        "        os.makedirs(val_dir, exist_ok=True)\n",
        "\n",
        "        # Copy training images\n",
        "        for img in images[train_idx]:\n",
        "            src = os.path.join(base_dir, img)\n",
        "            dst = os.path.join(train_dir, img)\n",
        "            os.makedirs(os.path.dirname(dst), exist_ok=True)\n",
        "            shutil.copy(src, dst)\n",
        "\n",
        "        # Copy validation images\n",
        "        for img in images[val_idx]:\n",
        "            src = os.path.join(base_dir, img)\n",
        "            dst = os.path.join(val_dir, img)\n",
        "            os.makedirs(os.path.dirname(dst), exist_ok=True)\n",
        "            shutil.copy(src, dst)"
      ]
    },
    {
      "cell_type": "code",
      "execution_count": null,
      "metadata": {},
      "outputs": [],
      "source": [
        "base_dir = os.path.join(PROJECT_DATASET_DIR, 'train_val') \n",
        "output_dir =os.path.join(PROJECT_DATASET_DIR, 'cross_validation') \n",
        "prepare_cross_validation_dirs(base_dir, output_dir)"
      ]
    },
    {
      "cell_type": "code",
      "execution_count": null,
      "metadata": {},
      "outputs": [],
      "source": [
        "# here we just temporary use the raw pictures to test †he training of 5-fold\n",
        "# will modify these when have the processed cross_vali datasets\n",
        "def load_images_from_folder(folder):\n",
        "    images = []\n",
        "    labels = []\n",
        "    for class_folder in os.listdir(folder):\n",
        "        class_folder_path = os.path.join(folder, class_folder)\n",
        "        for filename in os.listdir(class_folder_path):\n",
        "            img_path = os.path.join(class_folder_path, filename)\n",
        "            img = imread(img_path)\n",
        "            images.append(img)\n",
        "            labels.append(class_folder)\n",
        "    return np.array(images), np.array(labels)\n",
        "\n",
        "def train_decision_tree(train_dir, val_dir):\n",
        "    # Load images and labels\n",
        "    X_train, y_train = load_images_from_folder(train_dir)\n",
        "    X_val, y_val = load_images_from_folder(val_dir)\n",
        "\n",
        "    # Define the decision tree model\n",
        "    model = Pipeline([\n",
        "        ('scaler', StandardScaler()),  # Scale images\n",
        "        ('classifier', DecisionTreeClassifier(max_depth=10, min_samples_split=20, min_samples_leaf=2, criterion='entropy'))\n",
        "    ])\n",
        "    # Train the model\n",
        "    model.fit(X_train.reshape(X_train.shape[0], -1), y_train)  # Flatten images for training\n",
        "\n",
        "    # Calculate training accuracy\n",
        "    y_train_pred = model.predict(X_train.reshape(X_train.shape[0], -1))\n",
        "    train_accuracy = accuracy_score(y_train, y_train_pred)\n",
        "\n",
        "    # Predict the validation set\n",
        "    y_vali_pred = model.predict(X_val.reshape(X_val.shape[0], -1))\n",
        "\n",
        "    # Calculate validation accuracy\n",
        "    val_accuracy = accuracy_score(y_val, y_vali_pred)\n",
        "    return train_accuracy, val_accuracy"
      ]
    },
    {
      "cell_type": "code",
      "execution_count": null,
      "metadata": {},
      "outputs": [],
      "source": [
        "train_accuracies = []\n",
        "val_accuracies = []\n",
        "for i in range(1, 6):  # 5 folds\n",
        "    train_dir = os.path.join(CROSS_VALI_DIR, f'fold_{i}', 'train')\n",
        "    val_dir = os.path.join(CROSS_VALI_DIR, f'fold_{i}', 'val')\n",
        "    train_accuracy, val_accuracy = train_decision_tree(train_dir, val_dir)\n",
        "    train_accuracies.append(train_accuracy)\n",
        "    val_accuracies.append(val_accuracy)\n",
        "    print(f\"Training Accuracy for fold {i}: {train_accuracy}\")\n",
        "    print(f\"Validation Accuracy for fold {i}: {val_accuracy}\")"
      ]
    },
    {
      "cell_type": "markdown",
      "metadata": {},
      "source": [
        "## 4.3. Semi-Supervised Decision Tree"
      ]
    },
    {
      "cell_type": "markdown",
      "metadata": {},
      "source": [
        "### 4.3.1. Generating the labeled and unlabeled data for Semi-Supervised Decision Tree"
      ]
    },
    {
      "cell_type": "code",
      "execution_count": null,
      "metadata": {},
      "outputs": [],
      "source": [
        "def load_images_and_split(base_dir, labeled_ratio=0.2):\n",
        "    \"\"\"\n",
        "    Load images from a directory and split them into labeled and unlabeled datasets.\n",
        "\n",
        "    Args:\n",
        "    - base_dir (str): Path to the directory containing subdirectories for each class.\n",
        "    - labeled_ratio (float): The fraction of data to keep as labeled.\n",
        "\n",
        "    Returns:\n",
        "    - labeled_data (np.array): Array of labeled data.\n",
        "    - labeled_labels (list): List of labels for the labeled data.\n",
        "    - unlabeled_data (np.array): Array of unlabeled data.\n",
        "    \"\"\"\n",
        "    data = []\n",
        "    labels = []\n",
        "    classes = [d for d in os.listdir(base_dir) if os.path.isdir(os.path.join(base_dir, d))]\n",
        "    class_labels = {cls_name: idx for idx, cls_name in enumerate(classes)}\n",
        "\n",
        "    # Load all data and labels\n",
        "    for cls_name in classes:\n",
        "        class_dir = os.path.join(base_dir, cls_name)\n",
        "        for img_name in os.listdir(class_dir):\n",
        "            img_path = os.path.join(class_dir, img_name)\n",
        "            img = Image.open(img_path)\n",
        "            img_data = np.array(img).flatten()\n",
        "            data.append(img_data)\n",
        "            labels.append(class_labels[cls_name])\n",
        "\n",
        "    # Convert to numpy arrays\n",
        "    data = np.array(data)\n",
        "    labels = np.array(labels)\n",
        "\n",
        "    # Split into labeled and unlabeled\n",
        "    labeled_indices, unlabeled_indices = train_test_split(\n",
        "        np.arange(len(labels)),\n",
        "        test_size=1-labeled_ratio,\n",
        "        random_state= RANDOM_SEED,\n",
        "        stratify=labels  # Keep the distribution of classes consistent\n",
        "    )\n",
        "\n",
        "    labeled_data = data[labeled_indices]\n",
        "    labeled_labels = labels[labeled_indices]\n",
        "    unlabeled_data = data[unlabeled_indices]\n",
        "\n",
        "    return labeled_data, labeled_labels, unlabeled_data"
      ]
    },
    {
      "cell_type": "code",
      "execution_count": null,
      "metadata": {},
      "outputs": [],
      "source": [
        "labeled_data, labeled_labels, unlabeled_data = load_images_and_split(TRAIN_DIR, labeled_ratio=0.2)\n",
        "\n",
        "print(\"Labeled data shape:\", labeled_data.shape)\n",
        "print(\"Unlabeled data shape:\", unlabeled_data.shape)"
      ]
    },
    {
      "cell_type": "markdown",
      "metadata": {},
      "source": [
        "### 4.3.2. Model Training\n",
        "\n",
        " *need to add validation*"
      ]
    },
    {
      "cell_type": "code",
      "execution_count": null,
      "metadata": {},
      "outputs": [],
      "source": [
        "# Create the decision tree model\n",
        "model = DecisionTreeClassifier(random_state = RANDOM_SEED)\n",
        "\n",
        "# Initial training: Use the labeled data to train the model\n",
        "model.fit(labeled_data, labeled_labels)\n",
        "\n",
        "# Threshold list: decrease from 95% to 90% to 85% to 80%\n",
        "thresholds = [0.95, 0.90, 0.85, 0.80]\n",
        "test_accuracies = []  # Store the test accuracy for each threshold\n",
        "train_accuracies = []  # Store the training accuracy for each threshold\n",
        "\n",
        "# Iterate through each threshold\n",
        "for confidence_threshold in thresholds:\n",
        "    pseudo_labels = []  # Reset the pseudo label list for each loop\n",
        "\n",
        "    # Predict the labels for the unlabeled data\n",
        "    probabilities = model.predict_proba(unlabeled_data)\n",
        "    max_probabilities = np.max(probabilities, axis=1)\n",
        "\n",
        "    # Select high-confidence predictions to use as pseudo labels\n",
        "    for i, prob in enumerate(max_probabilities):\n",
        "        if prob > confidence_threshold:\n",
        "            pseudo_labels.append((unlabeled_data[i], np.argmax(probabilities[i])))\n",
        "\n",
        "    # If there are enough high-confidence predictions, add them as pseudo labels to the training data\n",
        "    if pseudo_labels:\n",
        "        pseudo_data, pseudo_labels = zip(*pseudo_labels)\n",
        "        new_data = np.vstack([labeled_data] + list(pseudo_data))\n",
        "        new_labels = np.hstack([labeled_labels] + list(pseudo_labels))\n",
        "\n",
        "        # Retrain the model with the new training data including pseudo labels\n",
        "        model.fit(new_data, new_labels)\n",
        "\n",
        "    # Calculate and store training accuracy\n",
        "    train_accuracy = model.score(new_data, new_labels)\n",
        "    train_accuracies.append(train_accuracy)\n",
        "\n",
        "    # Measure the model's performance on the original labeled test set\n",
        "    test_accuracy = model.score(test_data, test_labels)\n",
        "    test_accuracies.append(test_accuracy)\n",
        "    print(f'Training Accuracy at threshold {confidence_threshold*100}%: {train_accuracy}')\n",
        "    print(f'Test Accuracy at threshold {confidence_threshold*100}%: {test_accuracy}')\n",
        "\n",
        "\n",
        "# Plot the test and training accuracies\n",
        "plt.figure(figsize=(10, 6))\n",
        "plt.plot([str(th*100) for th in thresholds], test_accuracies, marker='o', linestyle='-', color='b', label='Test Accuracy')\n",
        "plt.plot([str(th*100) for th in thresholds], train_accuracies, marker='x', linestyle='--', color='r', label='Training Accuracy')\n",
        "plt.title('Accuracy vs Confidence Threshold')\n",
        "plt.xlabel('Confidence Threshold (%)')\n",
        "plt.ylabel('Accuracy')\n",
        "plt.legend()\n",
        "plt.grid(True)\n",
        "plt.show()\n"
      ]
    },
    {
      "cell_type": "markdown",
      "metadata": {
        "id": "toelHuOCrSys"
      },
      "source": [
        "## 4.4. Semi-Supervised Decision Tree with 5-fold validation"
      ]
    },
    {
      "cell_type": "code",
      "execution_count": null,
      "metadata": {},
      "outputs": [],
      "source": []
    },
    {
      "cell_type": "code",
      "execution_count": null,
      "metadata": {},
      "outputs": [],
      "source": []
    },
    {
      "cell_type": "markdown",
      "metadata": {},
      "source": []
    }
  ],
  "metadata": {
    "colab": {
      "machine_shape": "hm",
      "provenance": []
    },
    "kernelspec": {
      "display_name": "Python 3",
      "name": "python3"
    },
    "language_info": {
      "codemirror_mode": {
        "name": "ipython",
        "version": 3
      },
      "file_extension": ".py",
      "mimetype": "text/x-python",
      "name": "python",
      "nbconvert_exporter": "python",
      "pygments_lexer": "ipython3",
      "version": "3.11.9"
    }
  },
  "nbformat": 4,
  "nbformat_minor": 0
}
