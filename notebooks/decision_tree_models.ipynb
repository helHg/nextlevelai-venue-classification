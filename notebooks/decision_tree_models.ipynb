{
  "cells": [
    {
      "cell_type": "markdown",
      "metadata": {},
      "source": [
        "$$\\Huge\\textbf{Decision Tree Models}$$"
      ]
    },
    {
      "cell_type": "markdown",
      "metadata": {},
      "source": [
        "# Imports"
      ]
    },
    {
      "cell_type": "code",
      "execution_count": 1,
      "metadata": {},
      "outputs": [],
      "source": [
        "# Standard library imports\n",
        "import os  # directory and file operations\n",
        "import shutil  # copying files\n",
        "import time  # adding delays\n",
        "\n",
        "# Installed library imports\n",
        "import numpy as np  # numerical operations\n",
        "import matplotlib.pyplot as plt  # plotting and visualization\n",
        "import pandas as pd\n",
        "from PIL import Image  # image processing\n",
        "import seaborn as sns  # confusion matrix visualization\n",
        "from sklearn.metrics import accuracy_score, precision_score, recall_score, confusion_matrix  # evaluation metrics\n",
        "from sklearn.model_selection import GridSearchCV, StratifiedKFold, train_test_split  # splitting datasets and cross-validation\n",
        "from sklearn.tree import DecisionTreeClassifier  # decision tree classifier\n",
        "import torchvision.transforms as transforms  # data augmentation\n",
        "from sklearn.preprocessing import StandardScaler #\n",
        "from sklearn.pipeline import Pipeline\n",
        "from skimage.io import imread\n",
        "from skimage.transform import resize\n"
      ]
    },
    {
      "cell_type": "markdown",
      "metadata": {},
      "source": [
        "# Global Constansts"
      ]
    },
    {
      "cell_type": "code",
      "execution_count": null,
      "metadata": {
        "id": "CelQvPouZ8ot"
      },
      "outputs": [],
      "source": [
        "# constants\n",
        "NUM_IMAGES_PER_CLASS = 1000\n",
        "TEST_SPLIT_PERCENTAGE = 0.15\n",
        "TRAIN_VAL_SPLIT_PERCENTAGE = 1 - TEST_SPLIT_PERCENTAGE  # the rest is for training and validation\n",
        "BATCH_SIZE = 100  # number of images to copy at once\n",
        "RANDOM_SEED = 42  # seed for reproducibility\n",
        "\n",
        "IMAGE_SIZE = (256, 256)\n",
        "VALIDATION_SPLIT = 15 / 85  # train_val is 85% of the total dataset, we want the validation set to be 15% of the total dataset\n",
        "CLASSES = ['airplane_cabin', 'hockey_arena', 'movie_theater', 'staircase', 'supermarket']"
      ]
    },
    {
      "cell_type": "code",
      "execution_count": null,
      "metadata": {
        "id": "92m-8o6laHF1"
      },
      "outputs": [],
      "source": [
        "# data directories\n",
        "PROJECT_DATASET_DIR = '/content/drive/MyDrive/project_dataset'\n",
        "PROJECT_OUTPUT_DIR = '/content/drive/MyDrive/project_output'\n",
        "CLASSES_ORIGINAL = ['airplane_cabin', 'hockey_arena', 'movie_theater', 'staircase', 'supermarket']\n",
        "CLASSES_NEW = ['airplane_cabin', 'hockey_arena', 'movie_theater', 'staircase', 'supermarket']\n",
        "\n",
        "TRAIN_VAL_DIR = os.path.join(PROJECT_DATASET_DIR, 'train_val')\n",
        "TEST_DIR = os.path.join(PROJECT_DATASET_DIR, 'test')\n",
        "\n",
        "TRAIN_DIR = os.path.join(PROJECT_DATASET_DIR, 'train')  # new directory\n",
        "VALIDATION_DIR = os.path.join(PROJECT_DATASET_DIR, 'validation')  # new directory\n",
        "CROSS_VALI_DIR = os.path.join(PROJECT_DATASET_DIR, 'cross_validation') # new directory for cross_validation"
      ]
    },
    {
      "cell_type": "code",
      "execution_count": null,
      "metadata": {},
      "outputs": [],
      "source": [
        "# please do not remove it, it's for test purpose!!\n",
        "\n",
        "# data directories\n",
        "CLASSES_ORIGINAL = ['airplane_cabin', 'hockey_arena', 'movie_theater', 'staircase', 'supermarket']\n",
        "CLASSES_NEW = ['airplane_cabin', 'hockey_arena', 'movie_theater', 'staircase', 'supermarket']\n",
        "\n",
        "# processed data directories: case without cross validation\n",
        "PROCESSED_DATA_DIR = r'C:\\Users\\helen\\Documents\\Concordia University\\summer 2024\\COMP 6721\\project_code\\data\\project_dataset\\processed_data'\n",
        "TEST_DIR = os.path.join(PROCESSED_DATA_DIR, 'without_cross_validation', 'test')\n",
        "TRAIN_DIR = os.path.join(PROCESSED_DATA_DIR, 'without_cross_validation','train') \n",
        "VALIDATION_DIR = os.path.join(PROCESSED_DATA_DIR, 'without_cross_validation', 'validation')  # new directory\n",
        "\n",
        "# project output directory\n",
        "PROJECT_OUTPUT_DIR = r'C:\\Users\\helen\\Documents\\Concordia University\\summer 2024\\COMP 6721\\project_code\\data\\project_output'\n"
      ]
    },
    {
      "cell_type": "markdown",
      "metadata": {},
      "source": [
        "# 1. Help Functions"
      ]
    },
    {
      "cell_type": "markdown",
      "metadata": {
        "id": "f7rzEaBL1jdh"
      },
      "source": [
        "## 1.1. Load image data and labels for each dataset.\n",
        "\n",
        "\n",
        "*   Number of training data: 14000\n",
        "*   Number of validation/test data: 750\n",
        "\n",
        "\n",
        "\n"
      ]
    },
    {
      "cell_type": "code",
      "execution_count": null,
      "metadata": {},
      "outputs": [],
      "source": [
        "def load_images_and_labels(base_dir):\n",
        "    \"\"\"\n",
        "    Load image data and labels from a specified directory. This function traverses each class directory, loads each image, and assigns labels based on the directory name.\n",
        "\n",
        "    Inputs:\n",
        "    - base_dir: A string, the path to the directory containing subdirectories for each class.\n",
        "\n",
        "    Outputs:\n",
        "    - A tuple containing two numpy arrays:\n",
        "      1. `data`: an array of flattened image data.\n",
        "      2. `labels`: an array of labels corresponding to the images.\n",
        "\n",
        "    Each class is expected to have its own subdirectory within `base_dir` with the name of the class.\n",
        "    \"\"\"\n",
        "    # Initialize lists to store image data and labels\n",
        "    data = []\n",
        "    labels = []\n",
        "\n",
        "    # Define the classes and create a mapping from class names to a unique integer\n",
        "    classes = ['airplane_cabin', 'hockey_arena', 'movie_theater', 'staircase', 'supermarket']\n",
        "    class_labels = {cls_name: idx for idx, cls_name in enumerate(classes)}\n",
        "\n",
        "    # Iterate over each class directory in the base directory\n",
        "    for cls_name in classes:\n",
        "        class_dir = os.path.join(base_dir, cls_name)\n",
        "        for img_name in os.listdir(class_dir):\n",
        "            img_path = os.path.join(class_dir, img_name)\n",
        "            img = Image.open(img_path)  # Open the image directly\n",
        "            img_data = np.array(img).flatten()  # Flatten the image data into a one-dimensional vector\n",
        "            data.append(img_data)\n",
        "            labels.append(class_labels[cls_name])\n",
        "\n",
        "    # Convert the lists of data and labels to numpy arrays and return\n",
        "    return np.array(data), np.array(labels)"
      ]
    },
    {
      "cell_type": "markdown",
      "metadata": {},
      "source": [
        "## 1.2. Generate CSV file"
      ]
    },
    {
      "cell_type": "code",
      "execution_count": null,
      "metadata": {},
      "outputs": [],
      "source": [
        "def generate_csv_filename(max_depth, min_samples_split, min_samples_leaf, criterion):\n",
        "    \"\"\"\n",
        "    Generate a filename for storing CSV data based on the parameters of a decision tree model.\n",
        "\n",
        "    Parameters:\n",
        "    - max_depth (int or None): The maximum depth of the tree.\n",
        "    - min_samples_split (int): The minimum number of samples required to split an internal node.\n",
        "    - min_samples_leaf (int): The minimum number of samples required to be at a leaf node.\n",
        "    - criterion (str): The function to measure the quality of a split.\n",
        "\n",
        "    Returns:\n",
        "    - str: A string representing the filename.\n",
        "    \"\"\"\n",
        "    # Replace None with 'None' for filename compatibility\n",
        "    max_depth_str = 'None' if max_depth is None else max_depth\n",
        "\n",
        "    # Construct the filename\n",
        "    filename = f\"d{max_depth_str}_s{min_samples_split}_l{min_samples_leaf}_{criterion}.csv\"\n",
        "\n",
        "    return filename"
      ]
    },
    {
      "cell_type": "markdown",
      "metadata": {},
      "source": [
        "# 2. Evaluation Metrics"
      ]
    },
    {
      "cell_type": "code",
      "execution_count": null,
      "metadata": {},
      "outputs": [],
      "source": [
        "def evaluate_model(predictions, true_labels):\n",
        "    \"\"\"\n",
        "    Evaluate the predictions of a model using the true labels.\n",
        "    Calculate the accuracy, precision, recall, and confusion matrix of the predictions.\n",
        "\n",
        "    Inputs:\n",
        "    - predictions (np.ndarray): The predicted labels from the model.\n",
        "    - true_labels (np.ndarray): The true labels for the validation data.\n",
        "\n",
        "    Outputs:\n",
        "    - accuracy (float): The accuracy of the model on the validation data.\n",
        "    - precision (float): The precision of the model on the validation data.\n",
        "    - recall (float): The recall of the model on the validation data.\n",
        "    - conf_matrix (np.ndarray): The confusion matrix of the model's predictions.\n",
        "    \"\"\"\n",
        "    # Calculate accuracy\n",
        "    accuracy = accuracy_score(true_labels, predictions)\n",
        "    \n",
        "    # Calculate precision (macro-average for multi-class classification)\n",
        "    precision = precision_score(true_labels, predictions, average='macro')\n",
        "    \n",
        "    # Calculate recall (macro-average for multi-class classification)\n",
        "    recall = recall_score(true_labels, predictions, average='macro')\n",
        "    \n",
        "    # Generate confusion matrix\n",
        "    conf_matrix = confusion_matrix(true_labels, predictions)\n",
        "\n",
        "    return accuracy, precision, recall, conf_matrix\n"
      ]
    },
    {
      "cell_type": "code",
      "execution_count": null,
      "metadata": {},
      "outputs": [],
      "source": [
        "def print_evaluation_results(accuracy, precision, recall, conf_matrix, class_labels):\n",
        "    \"\"\"\n",
        "    Print and plot the evaluation results.\n",
        "\n",
        "    Inputs:\n",
        "    - accuracy (float): The accuracy of the model.\n",
        "    - precision (float): The precision of the model.\n",
        "    - recall (float): The recall of the model.\n",
        "    - conf_matrix (np.ndarray): The confusion matrix of the model's predictions.\n",
        "    - class_labels (np.ndarray): The unique class labels.\n",
        "\n",
        "    No outputs. The function prints the evaluation metrics and plots the confusion matrix.\n",
        "    \"\"\"\n",
        "    # Print the evaluation metrics\n",
        "    print(f'Accuracy: {accuracy}')\n",
        "    print(f'Precision: {precision}')\n",
        "    print(f'Recall: {recall}')\n",
        "    \n",
        "    # Print the confusion matrix\n",
        "    print(\"Confusion Matrix:\")\n",
        "    print(conf_matrix)\n",
        "    \n",
        "    # Plot the confusion matrix\n",
        "    #plt.figure(figsize=(10, 7))\n",
        "    #sns.heatmap(conf_matrix, annot=True, fmt='d', cmap='Blues', \n",
        "    #            xticklabels=class_labels, yticklabels=class_labels)\n",
        "    #plt.xlabel('Predicted')\n",
        "    #plt.ylabel('Actual')\n",
        "    #plt.title('Confusion Matrix')\n",
        "    #plt.show()"
      ]
    },
    {
      "cell_type": "markdown",
      "metadata": {},
      "source": [
        "# 3. Decision Tree Models"
      ]
    },
    {
      "cell_type": "code",
      "execution_count": null,
      "metadata": {},
      "outputs": [],
      "source": [
        "# Load training, validation, and test data\n",
        "train_data, train_labels = load_images_and_labels(TRAIN_DIR)\n",
        "validation_data, validation_labels = load_images_and_labels(VALIDATION_DIR)\n",
        "test_data, test_labels = load_images_and_labels(TEST_DIR)"
      ]
    },
    {
      "cell_type": "markdown",
      "metadata": {},
      "source": [
        "## 3.1. Supervised Decision Tree"
      ]
    },
    {
      "cell_type": "code",
      "execution_count": null,
      "metadata": {},
      "outputs": [],
      "source": [
        "# Create a decision tree model\n",
        "model_dt = DecisionTreeClassifier(max_depth=10, \n",
        "                                  min_samples_split=20, \n",
        "                                  min_samples_leaf=5, \n",
        "                                  criterion='entropy', \n",
        "                                  random_state=RANDOM_SEED)\n",
        "\n",
        "model_dt.fit(train_data, train_labels)"
      ]
    },
    {
      "cell_type": "markdown",
      "metadata": {},
      "source": [
        "### Test Zone Lu"
      ]
    },
    {
      "cell_type": "code",
      "execution_count": null,
      "metadata": {},
      "outputs": [],
      "source": [
        "# Evaluate the model using training data\n",
        "train_predictions_dt = model_dt.predict(train_data)\n",
        "train_accuracy_dt = accuracy_score(train_labels, train_predictions_dt)\n",
        "print(f'Training Accuracy for model_dt2: {train_accuracy_dt}')\n",
        "\n",
        "# Evaluate the model using validation data\n",
        "validation_predictions_dt = model_dt.predict(validation_data)\n",
        "vali_accuracy_dt = accuracy_score(validation_labels, validation_predictions_dt)\n",
        "print(f'Validation Accuracy for model_dt2: {vali_accuracy_dt}')"
      ]
    },
    {
      "cell_type": "markdown",
      "metadata": {},
      "source": [
        "### Test zone Hélène"
      ]
    },
    {
      "cell_type": "markdown",
      "metadata": {},
      "source": [
        "#### i. Basic DT"
      ]
    },
    {
      "cell_type": "code",
      "execution_count": null,
      "metadata": {},
      "outputs": [],
      "source": [
        "########## test purpose, please do not delete!\n",
        "\n",
        "\n",
        "##### basic DT using one set of hyperparameters\n",
        "# Create a decision tree model\n",
        "model_dt = DecisionTreeClassifier(max_depth=8, \n",
        "                                  min_samples_split=30, \n",
        "                                  min_samples_leaf=10, \n",
        "                                  criterion='entropy', \n",
        "                                  random_state=RANDOM_SEED)\n",
        "\n",
        "model_dt.fit(train_data, train_labels)\n",
        "\n",
        "# use the trained model to predict \n",
        "train_predictions_dt = model_dt.predict(train_data)\n",
        "validation_predictions_dt = model_dt.predict(validation_data)\n",
        "\n",
        "# evaluate the model using the evaluate_model(predictions, true_labels) function\n",
        "train_accuracy_dt, train_precision_dt, train_recall_dt, train_conf_matrix_dt = evaluate_model(train_predictions_dt, train_labels)\n",
        "val_accuracy_dt, val_precision_dt, val_recall_dt, val_conf_matrix_dt = evaluate_model(validation_predictions_dt, validation_labels)\n",
        "\n",
        "# print and plot the evaluation results\n",
        "print_evaluation_results(train_accuracy_dt, train_precision_dt, train_recall_dt, train_conf_matrix_dt, np.unique(train_labels))\n",
        "print_evaluation_results(val_accuracy_dt, val_precision_dt, val_recall_dt, val_conf_matrix_dt, np.unique(validation_labels))\n"
      ]
    },
    {
      "cell_type": "markdown",
      "metadata": {},
      "source": [
        "#### ii. Grid Search to Find the Ser of the Best Hyperparamers"
      ]
    },
    {
      "cell_type": "code",
      "execution_count": 13,
      "metadata": {},
      "outputs": [],
      "source": [
        "##### grid search of best params\n",
        "\n",
        "# define the parameter grid\n",
        "param_grid = {\n",
        "    'max_depth': [8, 10],\n",
        "    'min_samples_split': [15, 20, 30],\n",
        "    'min_samples_leaf': [5, 10]\n",
        "}\n",
        "\n",
        "\n",
        "## method 1: using GridSearchCV from scikitlearn\n",
        "\n",
        "# create a general DT classifier\n",
        "gridcv_model_dt = DecisionTreeClassifier(criterion='entropy', random_state=RANDOM_SEED)\n",
        "\n",
        "# perform grid search with cross-validation\n",
        "gridcv_search = GridSearchCV(estimator=gridcv_model_dt, param_grid=param_grid, cv=5, scoring='accuracy')\n",
        "gridcv_search.fit(train_data, train_labels)\n",
        "\n",
        "# get the best parameters\n",
        "best_params = gridcv_search.best_params_\n",
        "\n",
        "print(\"Best hyperparameters:\", best_params)\n",
        "\n",
        "# train the model with the best parameters\n",
        "model_dt = DecisionTreeClassifier(**best_params, criterion='entropy', random_state=RANDOM_SEED)\n",
        "model_dt.fit(train_data, train_labels)\n",
        "\n",
        "# use the trained model to predict \n",
        "train_predictions_dt = model_dt.predict(train_data)\n",
        "val_predictions_dt = model_dt.predict(validation_data)\n",
        "\n",
        "# evaluate the model using the evaluate_model(predictions, true_labels) function\n",
        "train_acc_dt, train_precision_dt, train_recall_dt, train_conf_matrix_dt = evaluate_model(train_predictions_dt, train_labels)\n",
        "val_acc_dt, val_precision_dt, val_recall_dt, val_conf_matrix_dt = evaluate_model(val_predictions_dt, validation_labels)\n",
        "\n",
        "# print and plot the evaluation results\n",
        "print_evaluation_results(train_acc_dt, train_precision_dt, train_recall_dt, train_conf_matrix_dt, np.unique(train_labels))\n",
        "print_evaluation_results(val_acc_dt, val_precision_dt, val_recall_dt, val_conf_matrix_dt, np.unique(validation_labels))\n"
      ]
    },
    {
      "cell_type": "code",
      "execution_count": null,
      "metadata": {},
      "outputs": [],
      "source": []
    },
    {
      "cell_type": "markdown",
      "metadata": {},
      "source": [
        "### Save Predictions in a CSV"
      ]
    },
    {
      "cell_type": "code",
      "execution_count": null,
      "metadata": {},
      "outputs": [],
      "source": [
        "# Save the labels and predictions to a CSV file\n",
        "results_df = pd.DataFrame({\n",
        "    'Actual Labels': validation_labels,\n",
        "    'Predicted Labels': validation_predictions_dt\n",
        "})\n",
        "\n",
        "# File path for the CSV file\n",
        "filename = generate_csv_filename(10, 20, 2, 'entropy')\n",
        "csv_file_path = os.path.join(PROJECT_OUTPUT_DIR, 'csvs/'+filename)\n",
        "\n",
        "# Check if the file exists, if not create one, if yes append without writing headers\n",
        "if not os.path.isfile(csv_file_path):\n",
        "    results_df.to_csv(csv_file_path, index=False)\n",
        "else:\n",
        "    results_df.to_csv(csv_file_path, mode='a', header=False, index=False)"
      ]
    },
    {
      "cell_type": "markdown",
      "metadata": {},
      "source": [
        "## 3.2. Supervised Decision Tree with 5-fold validation\n",
        "\n",
        "There is a directory for cross validation."
      ]
    },
    {
      "cell_type": "code",
      "execution_count": null,
      "metadata": {},
      "outputs": [],
      "source": [
        "def prepare_cross_validation_dirs(base_dir, output_dir, n_splits=5):\n",
        "    \"\"\"\n",
        "    Prepares cross-validation directories for image data.\n",
        "    \n",
        "    Parameters:\n",
        "    - base_dir: Path to the directory containing the original unnormalized, unaugmented data.\n",
        "    - output_dir: Path to the directory where the cross-validation splits will be stored.\n",
        "    - n_splits: Number of cross-validation splits.\n",
        "    \"\"\"\n",
        "    # Create the cross_validation directory if it does not exist\n",
        "    if not os.path.exists(output_dir):\n",
        "        os.makedirs(output_dir)\n",
        "    \n",
        "    # Read all images and their labels\n",
        "    images, labels = [], []\n",
        "    class_folders = [f for f in os.listdir(base_dir) if os.path.isdir(os.path.join(base_dir, f))]\n",
        "    for folder in class_folders:\n",
        "        folder_path = os.path.join(base_dir, folder)\n",
        "        for img in os.listdir(folder_path):\n",
        "            if img.lower().endswith(('.png', '.jpg', '.jpeg')):\n",
        "                images.append(os.path.join(folder, img))\n",
        "                labels.append(folder)\n",
        "\n",
        "    # Prepare stratified splits\n",
        "    skf = StratifiedKFold(n_splits=n_splits, shuffle=True, random_state=RANDOM_SEED)\n",
        "    images = np.array(images)\n",
        "    labels = np.array(labels)\n",
        "\n",
        "    # Generate splits and directories\n",
        "    for fold, (train_idx, val_idx) in enumerate(skf.split(images, labels), 1):\n",
        "        fold_dir = os.path.join(output_dir, f'fold_{fold}')\n",
        "        os.makedirs(fold_dir, exist_ok=True)\n",
        "\n",
        "        # Directories for training and validation inside each fold\n",
        "        train_dir = os.path.join(fold_dir, 'train')\n",
        "        val_dir = os.path.join(fold_dir, 'val')\n",
        "        os.makedirs(train_dir, exist_ok=True)\n",
        "        os.makedirs(val_dir, exist_ok=True)\n",
        "\n",
        "        # Copy training images\n",
        "        for img in images[train_idx]:\n",
        "            src = os.path.join(base_dir, img)\n",
        "            dst = os.path.join(train_dir, img)\n",
        "            os.makedirs(os.path.dirname(dst), exist_ok=True)\n",
        "            shutil.copy(src, dst)\n",
        "\n",
        "        # Copy validation images\n",
        "        for img in images[val_idx]:\n",
        "            src = os.path.join(base_dir, img)\n",
        "            dst = os.path.join(val_dir, img)\n",
        "            os.makedirs(os.path.dirname(dst), exist_ok=True)\n",
        "            shutil.copy(src, dst)"
      ]
    },
    {
      "cell_type": "code",
      "execution_count": null,
      "metadata": {},
      "outputs": [],
      "source": [
        "base_dir = os.path.join(PROJECT_DATASET_DIR, 'train_val') \n",
        "output_dir =os.path.join(PROJECT_DATASET_DIR, 'cross_validation') \n",
        "prepare_cross_validation_dirs(base_dir, output_dir)"
      ]
    },
    {
      "cell_type": "code",
      "execution_count": null,
      "metadata": {},
      "outputs": [],
      "source": [
        "# here we just temporary use the raw pictures to test †he training of 5-fold\n",
        "# will modify these when have the processed cross_vali datasets\n",
        "def load_images_from_folder(folder):\n",
        "    images = []\n",
        "    labels = []\n",
        "    for class_folder in os.listdir(folder):\n",
        "        class_folder_path = os.path.join(folder, class_folder)\n",
        "        for filename in os.listdir(class_folder_path):\n",
        "            img_path = os.path.join(class_folder_path, filename)\n",
        "            img = imread(img_path)\n",
        "            images.append(img)\n",
        "            labels.append(class_folder)\n",
        "    return np.array(images), np.array(labels)\n",
        "\n",
        "def train_decision_tree(train_dir, val_dir):\n",
        "    # Load images and labels\n",
        "    X_train, y_train = load_images_from_folder(train_dir)\n",
        "    X_val, y_val = load_images_from_folder(val_dir)\n",
        "\n",
        "    # Define the decision tree model\n",
        "    model = Pipeline([\n",
        "        ('scaler', StandardScaler()),  # Scale images\n",
        "        ('classifier', DecisionTreeClassifier(max_depth=10, min_samples_split=20, min_samples_leaf=2, criterion='entropy'))\n",
        "    ])\n",
        "    # Train the model\n",
        "    model.fit(X_train.reshape(X_train.shape[0], -1), y_train)  # Flatten images for training\n",
        "\n",
        "    # Calculate training accuracy\n",
        "    y_train_pred = model.predict(X_train.reshape(X_train.shape[0], -1))\n",
        "    train_accuracy = accuracy_score(y_train, y_train_pred)\n",
        "\n",
        "    # Predict the validation set\n",
        "    y_vali_pred = model.predict(X_val.reshape(X_val.shape[0], -1))\n",
        "\n",
        "    # Calculate validation accuracy\n",
        "    val_accuracy = accuracy_score(y_val, y_vali_pred)\n",
        "    return train_accuracy, val_accuracy"
      ]
    },
    {
      "cell_type": "code",
      "execution_count": null,
      "metadata": {},
      "outputs": [],
      "source": [
        "train_accuracies = []\n",
        "val_accuracies = []\n",
        "for i in range(1, 6):  # 5 folds\n",
        "    train_dir = os.path.join(CROSS_VALI_DIR, f'fold_{i}', 'train')\n",
        "    val_dir = os.path.join(CROSS_VALI_DIR, f'fold_{i}', 'val')\n",
        "    train_accuracy, val_accuracy = train_decision_tree(train_dir, val_dir)\n",
        "    train_accuracies.append(train_accuracy)\n",
        "    val_accuracies.append(val_accuracy)\n",
        "    print(f\"Training Accuracy for fold {i}: {train_accuracy}\")\n",
        "    print(f\"Validation Accuracy for fold {i}: {val_accuracy}\")"
      ]
    },
    {
      "cell_type": "markdown",
      "metadata": {},
      "source": [
        "## 3.3. Semi-Supervised Decision Tree"
      ]
    },
    {
      "cell_type": "markdown",
      "metadata": {},
      "source": [
        "### 3.3.1. Generating the labeled and unlabeled data for Semi-Supervised Decision Tree"
      ]
    },
    {
      "cell_type": "code",
      "execution_count": null,
      "metadata": {},
      "outputs": [],
      "source": [
        "def load_images_and_split(base_dir, labeled_ratio=0.2):\n",
        "    \"\"\"\n",
        "    Load images from a directory and split them into labeled and unlabeled datasets.\n",
        "\n",
        "    Args:\n",
        "    - base_dir (str): Path to the directory containing subdirectories for each class.\n",
        "    - labeled_ratio (float): The fraction of data to keep as labeled.\n",
        "\n",
        "    Returns:\n",
        "    - labeled_data (np.array): Array of labeled data.\n",
        "    - labeled_labels (list): List of labels for the labeled data.\n",
        "    - unlabeled_data (np.array): Array of unlabeled data.\n",
        "    \"\"\"\n",
        "    data = []\n",
        "    labels = []\n",
        "    classes = [d for d in os.listdir(base_dir) if os.path.isdir(os.path.join(base_dir, d))]\n",
        "    class_labels = {cls_name: idx for idx, cls_name in enumerate(classes)}\n",
        "\n",
        "    # Load all data and labels\n",
        "    for cls_name in classes:\n",
        "        class_dir = os.path.join(base_dir, cls_name)\n",
        "        for img_name in os.listdir(class_dir):\n",
        "            img_path = os.path.join(class_dir, img_name)\n",
        "            img = Image.open(img_path)\n",
        "            img_data = np.array(img).flatten()\n",
        "            data.append(img_data)\n",
        "            labels.append(class_labels[cls_name])\n",
        "\n",
        "    # Convert to numpy arrays\n",
        "    data = np.array(data)\n",
        "    labels = np.array(labels)\n",
        "\n",
        "    # Split into labeled and unlabeled\n",
        "    labeled_indices, unlabeled_indices = train_test_split(\n",
        "        np.arange(len(labels)),\n",
        "        test_size=1-labeled_ratio,\n",
        "        random_state= RANDOM_SEED,\n",
        "        stratify=labels  # Keep the distribution of classes consistent\n",
        "    )\n",
        "\n",
        "    labeled_data = data[labeled_indices]\n",
        "    labeled_labels = labels[labeled_indices]\n",
        "    unlabeled_data = data[unlabeled_indices]\n",
        "\n",
        "    return labeled_data, labeled_labels, unlabeled_data"
      ]
    },
    {
      "cell_type": "code",
      "execution_count": null,
      "metadata": {},
      "outputs": [],
      "source": [
        "labeled_data, labeled_labels, unlabeled_data = load_images_and_split(TRAIN_DIR, labeled_ratio=0.2)\n",
        "\n",
        "print(\"Labeled data shape:\", labeled_data.shape)\n",
        "print(\"Unlabeled data shape:\", unlabeled_data.shape)"
      ]
    },
    {
      "cell_type": "markdown",
      "metadata": {},
      "source": [
        "### 3.3.2. Model Training\n",
        "\n",
        " *need to add validation*"
      ]
    },
    {
      "cell_type": "code",
      "execution_count": null,
      "metadata": {},
      "outputs": [],
      "source": [
        "# Create the decision tree model\n",
        "model = DecisionTreeClassifier(random_state = RANDOM_SEED)\n",
        "\n",
        "# Initial training: Use the labeled data to train the model\n",
        "model.fit(labeled_data, labeled_labels)\n",
        "\n",
        "# Threshold list: decrease from 95% to 90% to 85% to 80%\n",
        "thresholds = [0.95, 0.90, 0.85, 0.80]\n",
        "test_accuracies = []  # Store the test accuracy for each threshold\n",
        "train_accuracies = []  # Store the training accuracy for each threshold\n",
        "\n",
        "# Iterate through each threshold\n",
        "for confidence_threshold in thresholds:\n",
        "    pseudo_labels = []  # Reset the pseudo label list for each loop\n",
        "\n",
        "    # Predict the labels for the unlabeled data\n",
        "    probabilities = model.predict_proba(unlabeled_data)\n",
        "    max_probabilities = np.max(probabilities, axis=1)\n",
        "\n",
        "    # Select high-confidence predictions to use as pseudo labels\n",
        "    for i, prob in enumerate(max_probabilities):\n",
        "        if prob > confidence_threshold:\n",
        "            pseudo_labels.append((unlabeled_data[i], np.argmax(probabilities[i])))\n",
        "\n",
        "    # If there are enough high-confidence predictions, add them as pseudo labels to the training data\n",
        "    if pseudo_labels:\n",
        "        pseudo_data, pseudo_labels = zip(*pseudo_labels)\n",
        "        new_data = np.vstack([labeled_data] + list(pseudo_data))\n",
        "        new_labels = np.hstack([labeled_labels] + list(pseudo_labels))\n",
        "\n",
        "        # Retrain the model with the new training data including pseudo labels\n",
        "        model.fit(new_data, new_labels)\n",
        "\n",
        "    # Calculate and store training accuracy\n",
        "    train_accuracy = model.score(new_data, new_labels)\n",
        "    train_accuracies.append(train_accuracy)\n",
        "\n",
        "    # Measure the model's performance on the original labeled test set\n",
        "    test_accuracy = model.score(test_data, test_labels)\n",
        "    test_accuracies.append(test_accuracy)\n",
        "    print(f'Training Accuracy at threshold {confidence_threshold*100}%: {train_accuracy}')\n",
        "    print(f'Test Accuracy at threshold {confidence_threshold*100}%: {test_accuracy}')\n",
        "\n",
        "\n",
        "# Plot the test and training accuracies\n",
        "plt.figure(figsize=(10, 6))\n",
        "plt.plot([str(th*100) for th in thresholds], test_accuracies, marker='o', linestyle='-', color='b', label='Test Accuracy')\n",
        "plt.plot([str(th*100) for th in thresholds], train_accuracies, marker='x', linestyle='--', color='r', label='Training Accuracy')\n",
        "plt.title('Accuracy vs Confidence Threshold')\n",
        "plt.xlabel('Confidence Threshold (%)')\n",
        "plt.ylabel('Accuracy')\n",
        "plt.legend()\n",
        "plt.grid(True)\n",
        "plt.show()\n"
      ]
    },
    {
      "cell_type": "markdown",
      "metadata": {
        "id": "toelHuOCrSys"
      },
      "source": [
        "## 3.4. Semi-Supervised Decision Tree with 5-fold validation"
      ]
    },
    {
      "cell_type": "code",
      "execution_count": null,
      "metadata": {},
      "outputs": [],
      "source": []
    },
    {
      "cell_type": "code",
      "execution_count": null,
      "metadata": {},
      "outputs": [],
      "source": []
    },
    {
      "cell_type": "markdown",
      "metadata": {},
      "source": []
    }
  ],
  "metadata": {
    "colab": {
      "machine_shape": "hm",
      "provenance": []
    },
    "kernelspec": {
      "display_name": "Python 3",
      "name": "python3"
    },
    "language_info": {
      "codemirror_mode": {
        "name": "ipython",
        "version": 3
      },
      "file_extension": ".py",
      "mimetype": "text/x-python",
      "name": "python",
      "nbconvert_exporter": "python",
      "pygments_lexer": "ipython3",
      "version": "3.11.9"
    }
  },
  "nbformat": 4,
  "nbformat_minor": 0
}
