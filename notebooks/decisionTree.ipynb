{
  "cells": [
    {
      "cell_type": "code",
      "execution_count": 1,
      "metadata": {
        "id": "CelQvPouZ8ot"
      },
      "outputs": [],
      "source": [
        "# define constants\n",
        "NUM_IMAGES_PER_CLASS = 1000\n",
        "TEST_SPLIT_PERCENTAGE = 0.15\n",
        "TRAIN_VAL_SPLIT_PERCENTAGE = 1 - TEST_SPLIT_PERCENTAGE  # the rest is for training and validation\n",
        "BATCH_SIZE = 50  # number of images to copy at once\n",
        "RANDOM_SEED = 42  # seed for reproducibility"
      ]
    },
    {
      "cell_type": "code",
      "execution_count": 2,
      "metadata": {
        "id": "92m-8o6laHF1"
      },
      "outputs": [],
      "source": [
        "PROJECT_DATASET_DIR = '/content/drive/MyDrive/project_dataset'\n",
        "PROJECT_OUTPUT_DIR = '/content/drive/MyDrive/project_output'\n",
        "CLASSES_ORIGINAL = ['airplane_cabin', 'hockey_arena', 'movie_theater', 'staircase', 'supermarket']\n",
        "CLASSES_NEW = ['airplane_cabin', 'hockey_arena', 'movie_theater', 'staircase', 'supermarket']"
      ]
    },
    {
      "cell_type": "markdown",
      "metadata": {
        "id": "sLrEDf0Js3dS"
      },
      "source": [
        "# Implement the Normalization and Augumentation.\n",
        "\n",
        "\n",
        "*   Normalization for training validation and test.\n",
        "*   Augumentation for training.\n",
        "\n"
      ]
    },
    {
      "cell_type": "code",
      "execution_count": 13,
      "metadata": {
        "id": "jMIrLwYmtHIX"
      },
      "outputs": [],
      "source": [
        "# standard library imports\n",
        "import os  #  directory and file operations\n",
        "import shutil  #  copying files\n",
        "import  time  #  adding delays\n",
        "\n",
        "# installed library imports\n",
        "from sklearn.model_selection import train_test_split  #  splitting datasets\n",
        "from PIL import Image  #  image processing\n",
        "import torchvision.transforms as transforms  #  data augmentation\n",
        "import numpy as np  #  numerical operations\n",
        "from sklearn.metrics import accuracy_score\n",
        "from sklearn.tree import DecisionTreeClassifier\n",
        "from sklearn.model_selection import StratifiedKFold\n",
        "import numpy as np"
      ]
    },
    {
      "cell_type": "code",
      "execution_count": 4,
      "metadata": {
        "id": "dUnirAzutTz_"
      },
      "outputs": [],
      "source": [
        "TRAIN_VAL_DIR = os.path.join(PROJECT_DATASET_DIR, 'train_val')\n",
        "TEST_DIR = os.path.join(PROJECT_DATASET_DIR, 'test')\n",
        "\n",
        "TRAIN_DIR = os.path.join(PROJECT_DATASET_DIR, 'train')  # new directory\n",
        "VALIDATION_DIR = os.path.join(PROJECT_DATASET_DIR, 'validation')  # new directory\n",
        "\n",
        "IMAGE_SIZE = (256, 256)\n",
        "VALIDATION_SPLIT = 15 / 85  # train_val is 85% of the total dataset, we want the validation set to be 15% of the total dataset\n",
        "CLASSES = ['airplane_cabin', 'hockey_arena', 'movie_theater', 'staircase', 'supermarket']\n",
        "RANDOM_SEED = 42\n",
        "BATCH_SIZE = 100"
      ]
    },
    {
      "cell_type": "markdown",
      "metadata": {
        "id": "f7rzEaBL1jdh"
      },
      "source": [
        "# Load image data and labels for each dataset.\n",
        "\n",
        "\n",
        "*   Number of training data: 14000\n",
        "*   Number of validation/test data: 750\n",
        "\n",
        "\n",
        "\n"
      ]
    },
    {
      "cell_type": "code",
      "execution_count": 14,
      "metadata": {
        "id": "3CqUOfIF1nvz"
      },
      "outputs": [],
      "source": [
        "def load_images_and_labels(base_dir):\n",
        "    \"\"\"\n",
        "    Load image data and labels from a specified directory. This function traverses each class directory, loads each image, and assigns labels based on the directory name.\n",
        "\n",
        "    Inputs:\n",
        "    - base_dir: A string, the path to the directory containing subdirectories for each class.\n",
        "\n",
        "    Outputs:\n",
        "    - A tuple containing two numpy arrays:\n",
        "      1. `data`: an array of flattened image data.\n",
        "      2. `labels`: an array of labels corresponding to the images.\n",
        "\n",
        "    Each class is expected to have its own subdirectory within `base_dir` with the name of the class.\n",
        "    \"\"\"\n",
        "    # Initialize lists to store image data and labels\n",
        "    data = []\n",
        "    labels = []\n",
        "\n",
        "    # Define the classes and create a mapping from class names to a unique integer\n",
        "    classes = ['airplane_cabin', 'hockey_arena', 'movie_theater', 'staircase', 'supermarket']\n",
        "    class_labels = {cls_name: idx for idx, cls_name in enumerate(classes)}\n",
        "\n",
        "    # Iterate over each class directory in the base directory\n",
        "    for cls_name in classes:\n",
        "        class_dir = os.path.join(base_dir, cls_name)\n",
        "        for img_name in os.listdir(class_dir):\n",
        "            img_path = os.path.join(class_dir, img_name)\n",
        "            img = Image.open(img_path)  # Open the image directly\n",
        "            img_data = np.array(img).flatten()  # Flatten the image data into a one-dimensional vector\n",
        "            data.append(img_data)\n",
        "            labels.append(class_labels[cls_name])\n",
        "\n",
        "    # Convert the lists of data and labels to numpy arrays and return\n",
        "    return np.array(data), np.array(labels)\n",
        "\n",
        "# Load training, validation, and test data\n",
        "train_data, train_labels = load_images_and_labels(TRAIN_DIR)\n",
        "validation_data, validation_labels = load_images_and_labels(VALIDATION_DIR)\n",
        "test_data, test_labels = load_images_and_labels(TEST_DIR)"
      ]
    },
    {
      "cell_type": "code",
      "execution_count": null,
      "metadata": {
        "colab": {
          "base_uri": "https://localhost:8080/"
        },
        "id": "aYD03GxoNLv1",
        "outputId": "a2c9fad2-2191-478e-ad73-f4c52fe2a095"
      },
      "outputs": [],
      "source": [
        "# Create a decision tree model\n",
        "model_dt = DecisionTreeClassifier(max_depth=10, min_samples_split=20, min_samples_leaf=2, criterion='entropy', random_state=RANDOM_SEED)\n",
        "model_dt.fit(train_data, train_labels)\n",
        "\n",
        "# Evaluate the model using test data\n",
        "validation_predictions_dt = model_dt.predict(validation_data)\n",
        "vali_accuracy_dt = accuracy_score(validation_labels, validation_predictions_dt)\n",
        "print(f'Validation Accuracy for model_dt2: {vali_accuracy_dt}')"
      ]
    },
    {
      "cell_type": "code",
      "execution_count": null,
      "metadata": {},
      "outputs": [],
      "source": [
        "def generate_csv_filename(max_depth, min_samples_split, min_samples_leaf, criterion):\n",
        "    \"\"\"\n",
        "    Generate a filename for storing CSV data based on the parameters of a decision tree model.\n",
        "\n",
        "    Parameters:\n",
        "    - max_depth (int or None): The maximum depth of the tree.\n",
        "    - min_samples_split (int): The minimum number of samples required to split an internal node.\n",
        "    - min_samples_leaf (int): The minimum number of samples required to be at a leaf node.\n",
        "    - criterion (str): The function to measure the quality of a split.\n",
        "\n",
        "    Returns:\n",
        "    - str: A string representing the filename.\n",
        "    \"\"\"\n",
        "    # Replace None with 'None' for filename compatibility\n",
        "    max_depth_str = 'None' if max_depth is None else max_depth\n",
        "\n",
        "    # Construct the filename\n",
        "    filename = f\"d{max_depth_str}_s{min_samples_split}_l{min_samples_leaf}_{criterion}.csv\"\n",
        "\n",
        "    return filename"
      ]
    },
    {
      "cell_type": "code",
      "execution_count": null,
      "metadata": {},
      "outputs": [],
      "source": [
        "import pandas as pd\n",
        "# Save the labels and predictions to a CSV file\n",
        "results_df = pd.DataFrame({\n",
        "    'Actual Labels': validation_labels,\n",
        "    'Predicted Labels': validation_predictions_dt\n",
        "})\n",
        "\n",
        "# File path for the CSV file\n",
        "filename = generate_csv_filename(10, 20, 2, 'entropy')\n",
        "csv_file_path = os.path.join(PROJECT_OUTPUT_DIR, 'csvs/'+filename)\n",
        "\n",
        "# Check if the file exists, if not create one, if yes append without writing headers\n",
        "if not os.path.isfile(csv_file_path):\n",
        "    results_df.to_csv(csv_file_path, index=False)\n",
        "else:\n",
        "    results_df.to_csv(csv_file_path, mode='a', header=False, index=False)"
      ]
    },
    {
      "cell_type": "markdown",
      "metadata": {
        "id": "z5VLdqN_khz7"
      },
      "source": [
        "# Supervised Decision Tree with 5-fold validation\n",
        "\n",
        "There is a directory for cross validation."
      ]
    },
    {
      "cell_type": "code",
      "execution_count": null,
      "metadata": {},
      "outputs": [],
      "source": [
        "def prepare_cross_validation_dirs(base_dir, output_dir, n_splits=5):\n",
        "    \"\"\"\n",
        "    Prepares cross-validation directories for image data.\n",
        "    \n",
        "    Parameters:\n",
        "    - base_dir: Path to the directory containing the original unnormalized, unaugmented data.\n",
        "    - output_dir: Path to the directory where the cross-validation splits will be stored.\n",
        "    - n_splits: Number of cross-validation splits.\n",
        "    \"\"\"\n",
        "    # Create the cross_validation directory if it does not exist\n",
        "    if not os.path.exists(output_dir):\n",
        "        os.makedirs(output_dir)\n",
        "    \n",
        "    # Read all images and their labels\n",
        "    images, labels = [], []\n",
        "    class_folders = [f for f in os.listdir(base_dir) if os.path.isdir(os.path.join(base_dir, f))]\n",
        "    for folder in class_folders:\n",
        "        folder_path = os.path.join(base_dir, folder)\n",
        "        for img in os.listdir(folder_path):\n",
        "            if img.lower().endswith(('.png', '.jpg', '.jpeg')):\n",
        "                images.append(os.path.join(folder, img))\n",
        "                labels.append(folder)\n",
        "\n",
        "    # Prepare stratified splits\n",
        "    skf = StratifiedKFold(n_splits=n_splits, shuffle=True, random_state=RANDOM_SEED)\n",
        "    images = np.array(images)\n",
        "    labels = np.array(labels)\n",
        "\n",
        "    # Generate splits and directories\n",
        "    for fold, (train_idx, val_idx) in enumerate(skf.split(images, labels), 1):\n",
        "        fold_dir = os.path.join(output_dir, f'fold_{fold}')\n",
        "        os.makedirs(fold_dir, exist_ok=True)\n",
        "\n",
        "        # Directories for training and validation inside each fold\n",
        "        train_dir = os.path.join(fold_dir, 'train')\n",
        "        val_dir = os.path.join(fold_dir, 'val')\n",
        "        os.makedirs(train_dir, exist_ok=True)\n",
        "        os.makedirs(val_dir, exist_ok=True)\n",
        "\n",
        "        # Copy training images\n",
        "        for img in images[train_idx]:\n",
        "            src = os.path.join(base_dir, img)\n",
        "            dst = os.path.join(train_dir, img)\n",
        "            os.makedirs(os.path.dirname(dst), exist_ok=True)\n",
        "            shutil.copy(src, dst)\n",
        "\n",
        "        # Copy validation images\n",
        "        for img in images[val_idx]:\n",
        "            src = os.path.join(base_dir, img)\n",
        "            dst = os.path.join(val_dir, img)\n",
        "            os.makedirs(os.path.dirname(dst), exist_ok=True)\n",
        "            shutil.copy(src, dst)\n",
        "\n",
        "base_dir = os.path.join(PROJECT_DATASET_DIR, 'train_val') \n",
        "output_dir =os.path.join(PROJECT_DATASET_DIR, 'cross_validation') \n",
        "prepare_cross_validation_dirs(base_dir, output_dir)"
      ]
    },
    {
      "cell_type": "code",
      "execution_count": null,
      "metadata": {
        "id": "wthAreEtNP8n"
      },
      "outputs": [],
      "source": [
        "import numpy as np\n",
        "from sklearn.tree import DecisionTreeClassifier\n",
        "from sklearn.metrics import accuracy_score\n",
        "from sklearn.model_selection import StratifiedKFold\n",
        "import pandas as pd\n",
        "\n",
        "# need to modify here\n",
        "data = #full_train_data\n",
        "labels = #full_train_labels\n",
        "\n",
        "# Define parameters\n",
        "max_depths = [10, 20, 30, None]\n",
        "min_samples_splits = [2, 5, 10]\n",
        "min_samples_leafs = [1, 2, 4]\n",
        "criterions = ['gini', 'entropy']\n",
        "\n",
        "# Initialize a list to record the results\n",
        "results = []\n",
        "\n",
        "# Create an instance of StratifiedKFold\n",
        "kf = StratifiedKFold(n_splits=5, shuffle=True, random_state=42)\n",
        "\n",
        "\n",
        "for depth in max_depths:\n",
        "    for min_samples_split in min_samples_splits:\n",
        "        for min_samples_leaf in min_samples_leafs:\n",
        "            for criterion in criterions:\n",
        "                scores = []  # Store the accuracy for each fold\n",
        "                # Train model on each fold\n",
        "                for train_index, test_index in kf.split(data, labels):\n",
        "                    X_train, X_test = data[train_index], data[test_index]\n",
        "                    y_train, y_test = labels[train_index], labels[test_index]\n",
        "\n",
        "                    # Create a decision tree model\n",
        "                    model = DecisionTreeClassifier(\n",
        "                        max_depth=depth,\n",
        "                        min_samples_split=min_samples_split,\n",
        "                        min_samples_leaf=min_samples_leaf,\n",
        "                        criterion=criterion,\n",
        "                        random_state=RANDOM_SEED\n",
        "                    )\n",
        "\n",
        "                    model.fit(X_train, y_train)\n",
        "                    predictions = model.predict(X_test)\n",
        "\n",
        "                    # Calculate and record the accuracy\n",
        "                    score = accuracy_score(y_test, predictions)\n",
        "                    scores.append(score)\n",
        "\n",
        "                # Calculate the average accuracy under the current parameter combination\n",
        "                mean_score = np.mean(scores)\n",
        "                results.append({\n",
        "                    'max_depth': depth,\n",
        "                    'min_samples_split': min_samples_split,\n",
        "                    'min_samples_leaf': min_samples_leaf,\n",
        "                    'criterion': criterion,\n",
        "                    'mean_accuracy': mean_score\n",
        "                })\n",
        "\n",
        "# Convert results into a DataFrame\n",
        "results_df = pd.DataFrame(results)\n",
        "\n",
        "# Find the best parameter combination\n",
        "best_params = results_df.loc[results_df['mean_accuracy'].idxmax()]\n",
        "print(\"Best parameters found:\", best_params)\n",
        "\n",
        "# Save the results to a CSV file\n",
        "results_df.to_csv('/content/drive/MyDrive/manual_gridsearch_results.csv', index=False)\n"
      ]
    },
    {
      "cell_type": "markdown",
      "metadata": {
        "id": "rVkEXknxk1R7"
      },
      "source": [
        "# Generating the labeled and unlabeled data for Semi-Supervised Decision Tree"
      ]
    },
    {
      "cell_type": "code",
      "execution_count": null,
      "metadata": {
        "id": "rIjT9V42kqAp"
      },
      "outputs": [],
      "source": [
        "def load_images_and_split(base_dir, labeled_ratio=0.2):\n",
        "    \"\"\"\n",
        "    Load images from a directory and split them into labeled and unlabeled datasets.\n",
        "\n",
        "    Args:\n",
        "    - base_dir (str): Path to the directory containing subdirectories for each class.\n",
        "    - labeled_ratio (float): The fraction of data to keep as labeled.\n",
        "\n",
        "    Returns:\n",
        "    - labeled_data (np.array): Array of labeled data.\n",
        "    - labeled_labels (list): List of labels for the labeled data.\n",
        "    - unlabeled_data (np.array): Array of unlabeled data.\n",
        "    \"\"\"\n",
        "    data = []\n",
        "    labels = []\n",
        "    classes = [d for d in os.listdir(base_dir) if os.path.isdir(os.path.join(base_dir, d))]\n",
        "    class_labels = {cls_name: idx for idx, cls_name in enumerate(classes)}\n",
        "\n",
        "    # Load all data and labels\n",
        "    for cls_name in classes:\n",
        "        class_dir = os.path.join(base_dir, cls_name)\n",
        "        for img_name in os.listdir(class_dir):\n",
        "            img_path = os.path.join(class_dir, img_name)\n",
        "            img = Image.open(img_path)\n",
        "            img_data = np.array(img).flatten()\n",
        "            data.append(img_data)\n",
        "            labels.append(class_labels[cls_name])\n",
        "\n",
        "    # Convert to numpy arrays\n",
        "    data = np.array(data)\n",
        "    labels = np.array(labels)\n",
        "\n",
        "    # Split into labeled and unlabeled\n",
        "    labeled_indices, unlabeled_indices = train_test_split(\n",
        "        np.arange(len(labels)),\n",
        "        test_size=1-labeled_ratio,\n",
        "        random_state= RANDOM_SEED,\n",
        "        stratify=labels  # Keep the distribution of classes consistent\n",
        "    )\n",
        "\n",
        "    labeled_data = data[labeled_indices]\n",
        "    labeled_labels = labels[labeled_indices]\n",
        "    unlabeled_data = data[unlabeled_indices]\n",
        "\n",
        "    return labeled_data, labeled_labels, unlabeled_data\n",
        "\n",
        "labeled_data, labeled_labels, unlabeled_data = load_images_and_split(TRAIN_DIR, labeled_ratio=0.2)\n",
        "\n",
        "print(\"Labeled data shape:\", labeled_data.shape)\n",
        "print(\"Unlabeled data shape:\", unlabeled_data.shape)"
      ]
    },
    {
      "cell_type": "markdown",
      "metadata": {
        "id": "tuBQCnL8qqJu"
      },
      "source": [
        "# Semi-Supervised Decision Tree\n",
        "\n",
        " *need to add validation*"
      ]
    },
    {
      "cell_type": "code",
      "execution_count": null,
      "metadata": {
        "id": "Rz0gtPhNmdZu"
      },
      "outputs": [],
      "source": [
        "\n",
        "\n",
        "import matplotlib.pyplot as plt\n",
        "\n",
        "# Create the decision tree model\n",
        "model = DecisionTreeClassifier(random_state=42)\n",
        "\n",
        "# Initial training: Use the labeled data to train the model\n",
        "model.fit(labeled_data, labeled_labels)\n",
        "\n",
        "# Threshold list: decrease from 95% to 90% to 85% to 80%\n",
        "thresholds = [0.95, 0.90, 0.85, 0.80]\n",
        "test_accuracies = []  # Store the test accuracy for each threshold\n",
        "\n",
        "# Iterate through each threshold\n",
        "for confidence_threshold in thresholds:\n",
        "    pseudo_labels = []  # Reset the pseudo label list for each loop\n",
        "\n",
        "    # Predict the labels for the unlabeled data\n",
        "    probabilities = model.predict_proba(unlabeled_data)\n",
        "    max_probabilities = np.max(probabilities, axis=1)\n",
        "\n",
        "    # Select high-confidence predictions to use as pseudo labels\n",
        "    for i, prob in enumerate(max_probabilities):\n",
        "        if prob > confidence_threshold:\n",
        "            pseudo_labels.append((unlabeled_data[i], np.argmax(probabilities[i])))\n",
        "\n",
        "    # If there are enough high-confidence predictions, add them as pseudo labels to the training data\n",
        "    if pseudo_labels:\n",
        "        pseudo_data, pseudo_labels = zip(*pseudo_labels)\n",
        "        new_data = np.vstack([labeled_data] + list(pseudo_data))\n",
        "        new_labels = np.hstack([labeled_labels] + list(pseudo_labels))\n",
        "\n",
        "        # Retrain the model with the new training data including pseudo labels\n",
        "        model.fit(new_data, new_labels)\n",
        "\n",
        "    # Measure the model's performance on the original labeled test set\n",
        "    test_accuracy = model.score(test_data, test_labels)\n",
        "    test_accuracies.append(test_accuracy)\n",
        "    print(f'Test Accuracy at threshold {confidence_threshold*100}%: {test_accuracy}')\n",
        "\n",
        "# Plot the test accuracies\n",
        "plt.figure(figsize=(10, 6))\n",
        "plt.plot([str(th*100) for th in thresholds], test_accuracies, marker='o', linestyle='-', color='b')\n",
        "plt.title('Test Accuracy vs Confidence Threshold')\n",
        "plt.xlabel('Confidence Threshold (%)')\n",
        "plt.ylabel('Test Accuracy')\n",
        "plt.grid(True)\n",
        "plt.show()\n"
      ]
    },
    {
      "cell_type": "markdown",
      "metadata": {
        "id": "toelHuOCrSys"
      },
      "source": [
        "# Semi-Supervised Decision Tree with 5-fold validation"
      ]
    }
  ],
  "metadata": {
    "colab": {
      "machine_shape": "hm",
      "provenance": []
    },
    "kernelspec": {
      "display_name": "Python 3",
      "name": "python3"
    },
    "language_info": {
      "name": "python"
    }
  },
  "nbformat": 4,
  "nbformat_minor": 0
}
